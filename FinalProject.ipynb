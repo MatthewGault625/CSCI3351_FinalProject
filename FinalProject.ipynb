{
 "cells": [
  {
   "cell_type": "markdown",
   "id": "b36afa89",
   "metadata": {},
   "source": [
    "## Building a Conversational Agent with Function Calling\n",
    "\n",
    "* **Created by:** Matthew Gault\n",
    "* **For:** CSCI 3351\n",
    "* **At:** University of Texas Rio-Grande Valley\n",
    "\n",
    "## Setup"
   ]
  },
  {
   "cell_type": "code",
   "execution_count": 34,
   "id": "894d9aef",
   "metadata": {},
   "outputs": [
    {
     "name": "stdout",
     "output_type": "stream",
     "text": [
      "Note: you may need to restart the kernel to use updated packages.\n"
     ]
    }
   ],
   "source": [
    "%pip install -U --quiet pydantic openai gradio geocoder"
   ]
  },
  {
   "cell_type": "markdown",
   "id": "3656b0e0",
   "metadata": {},
   "source": [
    "## Database"
   ]
  },
  {
   "cell_type": "code",
   "execution_count": 2,
   "id": "76cc4b0e",
   "metadata": {},
   "outputs": [
    {
     "name": "stdout",
     "output_type": "stream",
     "text": [
      "Database and tables created successfully, and initial data inserted.\n"
     ]
    }
   ],
   "source": [
    "from datetime import datetime\n",
    "from datetime import timedelta\n",
    "import sqlite3\n",
    "\n",
    "def create_database():\n",
    "    # Connect to SQLite database (or create it if it doesn't exist)\n",
    "    conn = sqlite3.connect('schedule.db')\n",
    "    cursor = conn.cursor()\n",
    "\n",
    "    # Create tables\n",
    "    cursor.execute('''\n",
    "    CREATE TABLE IF NOT EXISTS users (\n",
    "        user_id INTEGER PRIMARY KEY AUTOINCREMENT,\n",
    "        full_name TEXT NOT NULL,\n",
    "        phone TEXT NOT NULL UNIQUE\n",
    "    );\n",
    "    ''')\n",
    "\n",
    "    cursor.execute('''\n",
    "    CREATE TABLE IF NOT EXISTS checkup_slots (\n",
    "        slot_id INTEGER PRIMARY KEY AUTOINCREMENT,\n",
    "        checkup_date TEXT NOT NULL,\n",
    "        checkup_time TEXT NOT NULL\n",
    "    );\n",
    "    ''')\n",
    "\n",
    "    cursor.execute('''\n",
    "    CREATE TABLE IF NOT EXISTS scheduled_checkups (\n",
    "        checkup_id INTEGER PRIMARY KEY AUTOINCREMENT,\n",
    "        user_id INTEGER,\n",
    "        slot_id INTEGER,\n",
    "        walk_in BOOLEAN,\n",
    "        appointment BOOLEAN,\n",
    "        FOREIGN KEY(user_id) REFERENCES users(user_id),\n",
    "        FOREIGN KEY(slot_id) REFERENCES checkup_slots(slot_id)\n",
    "    );\n",
    "    ''')\n",
    "\n",
    "    # Commit changes\n",
    "    conn.commit()\n",
    "    \n",
    "    # Generate and insert checkup slots\n",
    "    generate_checkup_slots(cursor)\n",
    "    \n",
    "    # Commit changes and close the connection\n",
    "    conn.commit()\n",
    "    conn.close()\n",
    "\n",
    "    print(\"Database and tables created successfully, and initial data inserted.\")\n",
    "\n",
    "def generate_checkup_slots(cursor):\n",
    "    # Define the hours and days you want to create slots for\n",
    "    hours = [\"08:00am\", \"09:00am\", \"10:00am\", \"11:00am\", \"12:00pm\", \"01:00pm\", \"02:00pm\", \"03:00pm\", \"04:00pm\", \"05:00pm\"]\n",
    "    days_of_week = [0, 1, 2, 3, 4, 5, 6]  # 0=Monday, 1=Tuesday, ..., 6=Sunday\n",
    "\n",
    "    start_date = datetime.now()\n",
    "    end_date = start_date + timedelta(days=365)  # Slots for the next year\n",
    "\n",
    "    current_date = start_date\n",
    "    while current_date <= end_date:\n",
    "        if current_date.weekday() in days_of_week:\n",
    "            for hour in hours:\n",
    "                checkup_date = current_date.strftime(\"%m/%d/%Y\")\n",
    "                cursor.execute('INSERT INTO checkup_slots (checkup_date, checkup_time) VALUES (?, ?)', (checkup_date, hour))\n",
    "        current_date += timedelta(days=1)\n",
    "        \n",
    "create_database()"
   ]
  },
  {
   "cell_type": "code",
   "execution_count": 3,
   "id": "cf1bdf5d",
   "metadata": {},
   "outputs": [
    {
     "name": "stdout",
     "output_type": "stream",
     "text": [
      "[]\n"
     ]
    }
   ],
   "source": [
    "import sqlite3\n",
    "import re\n",
    "import geocoder\n",
    "\n",
    "def connect_db():\n",
    "    return sqlite3.connect('schedule.db')\n",
    "\n",
    "def format_phone_number(phone):\n",
    "    # Remove all non-digit characters\n",
    "    digits = re.sub(r'\\D', '', phone)\n",
    "\n",
    "    # Check if we have exactly 10 digits (U.S. phone number without country code)\n",
    "    if len(digits) == 10:\n",
    "        # Reformat to (XXX) XXX-XXXX\n",
    "        formatted_phone = f\"({digits[0:3]}) {digits[3:6]}-{digits[6:10]}\"\n",
    "        return True, formatted_phone\n",
    "    return False, None\n",
    "\n",
    "def validate_phone_number(phone):\n",
    "    pattern = re.compile(r\"^\\(\\d{3}\\) \\d{3}-\\d{4}$\")\n",
    "    return pattern.match(phone) is not None\n",
    "\n",
    "def validate_date(date_text):\n",
    "    try:\n",
    "        datetime.strptime(date_text, \"%m/%d/%Y\")\n",
    "        return True\n",
    "    except ValueError:\n",
    "        return False\n",
    "\n",
    "def validate_address(address):\n",
    "    # Use the geocoder to get the location data\n",
    "    g = geocoder.osm(address)\n",
    "    print(g)\n",
    "    print(g.city)\n",
    "    if g.ok:\n",
    "        # Check if the address is in Brownsville, TX\n",
    "        if 'Brownsville' in g.city and 'Texas' in g.state:\n",
    "            return True, g.latlng\n",
    "        else:\n",
    "            return False, None\n",
    "    return False, None\n",
    "\n",
    "\n",
    "def is_slot_available(slot_id):\n",
    "    conn = connect_db()\n",
    "    cursor = conn.cursor()\n",
    "    cursor.execute('SELECT slot_id FROM scheduled_checkups WHERE slot_id = ?', (slot_id,))\n",
    "    result = cursor.fetchone()\n",
    "    conn.close()\n",
    "    return result is None\n",
    "\n",
    "def schedule_checkup(full_name: str, phone: str, address: str, checkup_slot_id: int, walk_in: bool, appointment: bool):\n",
    "    \"Attempts to schedule a checkup for a user at the desired checkup_slot_id. All fields are required.\"\n",
    "\n",
    "    valid_phone, formatted_phone = format_phone_number(phone)\n",
    "    if not valid_phone:\n",
    "        return \"Invalid phone number. Please provide a valid 10-digit phone number.\"\n",
    "\n",
    "    phone = formatted_phone  # Use the formatted phone number\n",
    "\n",
    "    if not is_slot_available(checkup_slot_id):\n",
    "        return \"This slot is already booked. Please choose another slot.\"\n",
    "\n",
    "    valid_address, coordinates = validate_address(address)\n",
    "    if not valid_address:\n",
    "        return \"Invalid address or not located in Brownsville, TX.\"\n",
    "\n",
    "    conn = connect_db()\n",
    "    cursor = conn.cursor()\n",
    "    \n",
    "    try:\n",
    "        # Insert user if not exists\n",
    "        cursor.execute('INSERT OR IGNORE INTO users (full_name, phone) VALUES (?, ?)', (full_name, phone))\n",
    "        user_id = cursor.lastrowid\n",
    "        \n",
    "        if user_id == 0:\n",
    "            cursor.execute('SELECT user_id FROM users WHERE phone = ?', (phone,))\n",
    "            user_id = cursor.fetchone()[0]\n",
    "\n",
    "        # Schedule the checkup\n",
    "        cursor.execute('''\n",
    "            INSERT INTO scheduled_checkups (user_id, slot_id, walk_in, appointment)\n",
    "            VALUES (?, ?, ?, ?)\n",
    "        ''', (user_id, checkup_slot_id, walk_in, appointment))\n",
    "        \n",
    "        conn.commit()\n",
    "    except sqlite3.Error as e:\n",
    "        conn.rollback()\n",
    "        conn.close()\n",
    "        return f\"An error occurred: {e}\"\n",
    "    finally:\n",
    "        conn.close()\n",
    "\n",
    "    return \"Successfully scheduled.\"\n",
    "\n",
    "def get_availability_admin():\n",
    "    \"Returns all availability\"\n",
    "    conn = connect_db()\n",
    "    cursor = conn.cursor()\n",
    "    \n",
    "    cursor.execute('SELECT slot_id, checkup_date, checkup_time FROM checkup_slots')\n",
    "    availability = cursor.fetchall()\n",
    "    \n",
    "    conn.close()\n",
    "    \n",
    "    return [{\"checkup_slot_id\": slot_id, \"checkup_date\": date, \"checkup_time\": time} for slot_id, date, time in availability]\n",
    "\n",
    "def get_booked_appointments():\n",
    "    \"Attempts to schedule a checkup for a user at the desired checkup_slot_id.\"\n",
    "    conn = connect_db()\n",
    "    cursor = conn.cursor()\n",
    "    \n",
    "    # SQL query to fetch all booked appointments\n",
    "    cursor.execute('''\n",
    "        SELECT sp.checkup_id, u.full_name, u.phone, ps.checkup_date, ps.checkup_time, sp.walk_in, sp.appointment\n",
    "        FROM scheduled_checkups sp\n",
    "        JOIN users u ON sp.user_id = u.user_id\n",
    "        JOIN checkup_slots ps ON sp.slot_id = ps.slot_id\n",
    "        ORDER BY ps.checkup_date, ps.checkup_time\n",
    "    ''')\n",
    "    \n",
    "    # Fetch all results\n",
    "    appointments = cursor.fetchall()\n",
    "    conn.close()\n",
    "    \n",
    "    # Convert to a list of dictionaries for easier DataFrame conversion\n",
    "    columns = [\"checkup_id\", \"full_name\", \"phone\", \"checkup_date\", \"checkup_time\", \"walk_in\", \"appointment\"]\n",
    "    appointments_data = [dict(zip(columns, appointment)) for appointment in appointments]\n",
    "    \n",
    "    return appointments_data\n",
    "\n",
    "\n",
    "def get_availability():\n",
    "    \"Returns available slots for today and tomorrow\"\n",
    "    conn = connect_db()\n",
    "    cursor = conn.cursor()\n",
    "    \n",
    "    # Get today's and tomorrow's dates in the format stored in the database\n",
    "    today = datetime.now().strftime(\"%m/%d/%Y\")\n",
    "    tomorrow = (datetime.now() + timedelta(days=1)).strftime(\"%m/%d/%Y\")\n",
    "    \n",
    "    # SQL query to fetch slots for today and tomorrow that are not booked\n",
    "    cursor.execute('''\n",
    "        SELECT ps.slot_id, ps.checkup_date, ps.checkup_time\n",
    "        FROM checkup_slots ps\n",
    "        LEFT JOIN scheduled_checkups sp ON ps.slot_id = sp.slot_id\n",
    "        WHERE ps.checkup_date IN (?, ?) AND sp.slot_id IS NULL\n",
    "        ORDER BY ps.checkup_date, ps.checkup_time\n",
    "    ''', (today, tomorrow))\n",
    "    \n",
    "    availability = cursor.fetchall()\n",
    "    conn.close()\n",
    "    \n",
    "    # Format the results into a list of dictionaries\n",
    "    return [{\"checkup_slot_id\": slot_id, \"checkup_date\": date, \"checkup_time\": time} for slot_id, date, time in availability]\n",
    "\n",
    "# Example usage\n",
    "print(get_booked_appointments())"
   ]
  },
  {
   "cell_type": "markdown",
   "id": "4b89003e",
   "metadata": {},
   "source": [
    "## Define Tools"
   ]
  },
  {
   "cell_type": "code",
   "execution_count": 4,
   "id": "0a763edd",
   "metadata": {},
   "outputs": [
    {
     "name": "stdout",
     "output_type": "stream",
     "text": [
      "5\n"
     ]
    }
   ],
   "source": [
    "def sum(a:int, b:int=1):\n",
    "    \"Adds a + b\"\n",
    "    return a + b\n",
    "\n",
    "print(sum(a=2, b=3))"
   ]
  },
  {
   "cell_type": "code",
   "execution_count": 5,
   "id": "3ea1dc4a",
   "metadata": {},
   "outputs": [
    {
     "name": "stdout",
     "output_type": "stream",
     "text": [
      "{'results': [{'id': 4676740, 'name': 'Brownsville', 'latitude': 25.90175, 'longitude': -97.49748, 'elevation': 10.0, 'feature_code': 'PPLA2', 'country_code': 'US', 'admin1_id': 4736286, 'admin2_id': 4678364, 'timezone': 'America/Chicago', 'population': 183887, 'postcodes': ['78520', '78521', '78522', '78523', '78526'], 'country_id': 6252001, 'country': 'United States', 'admin1': 'Texas', 'admin2': 'Cameron'}, {'id': 4609116, 'name': 'Brownsville', 'latitude': 35.59397, 'longitude': -89.26229, 'elevation': 119.0, 'feature_code': 'PPLA2', 'country_code': 'US', 'admin1_id': 4662168, 'admin2_id': 4628456, 'timezone': 'America/Chicago', 'population': 9876, 'postcodes': ['38012'], 'country_id': 6252001, 'country': 'United States', 'admin1': 'Tennessee', 'admin2': 'Haywood'}, {'id': 4285708, 'name': 'Brownsville', 'latitude': 37.19255, 'longitude': -86.26775, 'elevation': 166.0, 'feature_code': 'PPLA2', 'country_code': 'US', 'admin1_id': 6254925, 'admin2_id': 4290885, 'timezone': 'America/Chicago', 'population': 826, 'postcodes': ['42210'], 'country_id': 6252001, 'country': 'United States', 'admin1': 'Kentucky', 'admin2': 'Edmonson'}, {'id': 5110446, 'name': 'Brownsville', 'latitude': 40.66094, 'longitude': -73.92014, 'elevation': 9.0, 'feature_code': 'PPL', 'country_code': 'US', 'admin1_id': 5128638, 'admin2_id': 6941775, 'timezone': 'America/New_York', 'population': 74497, 'country_id': 6252001, 'country': 'United States', 'admin1': 'New York', 'admin2': 'Kings'}, {'id': 5181946, 'name': 'Brownsville', 'latitude': 40.02369, 'longitude': -79.88394, 'elevation': 243.0, 'feature_code': 'PPL', 'country_code': 'US', 'admin1_id': 6254927, 'admin2_id': 5189414, 'admin3_id': 5181947, 'timezone': 'America/New_York', 'population': 2292, 'postcodes': ['15417'], 'country_id': 6252001, 'country': 'United States', 'admin1': 'Pennsylvania', 'admin2': 'Fayette', 'admin3': 'Borough of Brownsville'}, {'id': 5716061, 'name': 'Brownsville', 'latitude': 44.39346, 'longitude': -122.98481, 'elevation': 109.0, 'feature_code': 'PPL', 'country_code': 'US', 'admin1_id': 5744337, 'admin2_id': 5736713, 'timezone': 'America/Los_Angeles', 'population': 1738, 'postcodes': ['97327'], 'country_id': 6252001, 'country': 'United States', 'admin1': 'Oregon', 'admin2': 'Linn'}, {'id': 4410978, 'name': 'Sweet Springs', 'latitude': 38.96363, 'longitude': -93.41493, 'elevation': 217.0, 'feature_code': 'PPL', 'country_code': 'US', 'admin1_id': 4398678, 'admin2_id': 4407376, 'admin3_id': 4407444, 'timezone': 'America/Chicago', 'population': 1467, 'postcodes': ['65351'], 'country_id': 6252001, 'country': 'United States', 'admin1': 'Missouri', 'admin2': 'Saline', 'admin3': 'Salt Pond Township'}, {'id': 4267767, 'name': 'Auburn', 'latitude': 38.90611, 'longitude': -95.8161, 'elevation': 331.0, 'feature_code': 'PPL', 'country_code': 'US', 'admin1_id': 4273857, 'admin2_id': 4279253, 'admin3_id': 4267771, 'timezone': 'America/Chicago', 'population': 1218, 'postcodes': ['66402'], 'country_id': 6252001, 'country': 'United States', 'admin1': 'Kansas', 'admin2': 'Shawnee', 'admin3': 'Auburn Township'}, {'id': 5246944, 'name': 'Brownsville', 'latitude': 43.61638, 'longitude': -88.49066, 'elevation': 304.0, 'feature_code': 'PPL', 'country_code': 'US', 'admin1_id': 5279468, 'admin2_id': 5250710, 'admin3_id': 5246945, 'timezone': 'America/Chicago', 'population': 582, 'postcodes': ['53006'], 'country_id': 6252001, 'country': 'United States', 'admin1': 'Wisconsin', 'admin2': 'Dodge', 'admin3': 'Village of Brownsville'}, {'id': 5019453, 'name': 'Brownsville', 'latitude': 43.69414, 'longitude': -91.27986, 'elevation': 215.0, 'feature_code': 'PPL', 'country_code': 'US', 'admin1_id': 5037779, 'admin2_id': 5030806, 'admin3_id': 5019457, 'timezone': 'America/Chicago', 'population': 465, 'postcodes': ['55919'], 'country_id': 6252001, 'country': 'United States', 'admin1': 'Minnesota', 'admin2': 'Houston', 'admin3': 'City of Brownsville'}], 'generationtime_ms': 2.3809671}\n"
     ]
    }
   ],
   "source": [
    "import requests\n",
    "\n",
    "def geocode(city_name:str):\n",
    "    \"Geocodes a city name into latitude and longitude data\"\n",
    "    url = f'https://geocoding-api.open-meteo.com/v1/search?name={city_name}&count=10&language=en&format=json'\n",
    "\n",
    "    try:\n",
    "        response = requests.get(url)\n",
    "\n",
    "        # If the response was successful, no Exception will be raised\n",
    "        response.raise_for_status()\n",
    "    except HTTPError as http_err:\n",
    "        print(f'HTTP error occurred: {http_err}')  \n",
    "    except Exception as err:\n",
    "        print(f'Other error occurred: {err}')  \n",
    "    else:\n",
    "        return response.json() # If successful, return json response\n",
    "    \n",
    "print(geocode(city_name=\"Brownsville\"))"
   ]
  },
  {
   "cell_type": "code",
   "execution_count": 6,
   "id": "3ddcea65",
   "metadata": {},
   "outputs": [
    {
     "name": "stdout",
     "output_type": "stream",
     "text": [
      "{'latitude': 26.309208, 'longitude': -98.153625, 'generationtime_ms': 0.034928321838378906, 'utc_offset_seconds': -18000, 'timezone': 'America/Chicago', 'timezone_abbreviation': 'CDT', 'elevation': 30.0, 'current_units': {'time': 'iso8601', 'interval': 'seconds', 'temperature_2m': '°C', 'is_day': '', 'precipitation': 'mm', 'rain': 'mm', 'showers': 'mm', 'snowfall': 'cm'}, 'current': {'time': '2024-05-08T14:30', 'interval': 900, 'temperature_2m': 37.2, 'is_day': 1, 'precipitation': 0.0, 'rain': 0.0, 'showers': 0.0, 'snowfall': 0.0}}\n"
     ]
    }
   ],
   "source": [
    "def weather(latitude:float, longitude:float):\n",
    "    \"Returns the weather conditions for a given latitude and longitude\"\n",
    "    url = f'https://api.open-meteo.com/v1/forecast?latitude={latitude}&longitude={longitude}&current=temperature_2m,is_day,precipitation,rain,showers,snowfall&timezone=America%2FChicago'\n",
    "\n",
    "    try:\n",
    "        response = requests.get(url)\n",
    "\n",
    "        # If the response was successful, no Exception will be raised\n",
    "        response.raise_for_status()\n",
    "    except HTTPError as http_err:\n",
    "        print(f'HTTP error occurred: {http_err}')  \n",
    "    except Exception as err:\n",
    "        print(f'Other error occurred: {err}')  \n",
    "    else:\n",
    "        return response.json() # If successful, return json response\n",
    "    \n",
    "print(weather(latitude=26.30174, longitude=-98.16334))"
   ]
  },
  {
   "cell_type": "code",
   "execution_count": 15,
   "id": "60f3f5aa",
   "metadata": {},
   "outputs": [
    {
     "name": "stdout",
     "output_type": "stream",
     "text": [
      "May 08, 2024\n"
     ]
    }
   ],
   "source": [
    "from datetime import datetime\n",
    "from datetime import timedelta\n",
    "\n",
    "# gets todays date\n",
    "def get_todays_date():\n",
    "    \"Gets today's date\"\n",
    "    return datetime.now().strftime('%B %d, %Y')\n",
    "\n",
    "# Example:\n",
    "print(get_todays_date())"
   ]
  },
  {
   "cell_type": "code",
   "execution_count": 16,
   "id": "5a6e01fe",
   "metadata": {},
   "outputs": [
    {
     "name": "stdout",
     "output_type": "stream",
     "text": [
      "May 09, 2024\n"
     ]
    }
   ],
   "source": [
    "# gets tomorrows date\n",
    "def get_tomorrows_date():\n",
    "    \"Gets tomorrow's date\"\n",
    "    now = datetime.now()\n",
    "    tomorrow = now + timedelta(days=1)\n",
    "    return tomorrow.strftime('%B %d, %Y')\n",
    "\n",
    "print(get_tomorrows_date())"
   ]
  },
  {
   "cell_type": "code",
   "execution_count": 17,
   "id": "df13224c",
   "metadata": {},
   "outputs": [
    {
     "name": "stdout",
     "output_type": "stream",
     "text": [
      "05/08/2024 02:44 PM\n"
     ]
    }
   ],
   "source": [
    "# gets the current time\n",
    "def get_current_time():\n",
    "    \"Gets the current time\"\n",
    "    return datetime.now().strftime(\"%m/%d/%Y %I:%M %p\")\n",
    "\n",
    "# Example:\n",
    "print(get_current_time())"
   ]
  },
  {
   "cell_type": "code",
   "execution_count": 7,
   "id": "6c10bea7",
   "metadata": {},
   "outputs": [
    {
     "name": "stdout",
     "output_type": "stream",
     "text": [
      "Brownsville, Texas\n"
     ]
    }
   ],
   "source": [
    "import geocoder\n",
    "\n",
    "# finds your city and state based on your IP address\n",
    "def user_location():\n",
    "    \"Guesses the users current location in the format of <city>, <state> based on IP address. But should always ask the user when scheduling.\"\n",
    "    g = geocoder.ip('me')\n",
    "    city = g.city\n",
    "    state = g.state\n",
    "    return f\"{city}, {state}\"\n",
    "\n",
    "# Example:\n",
    "print(user_location())"
   ]
  },
  {
   "cell_type": "markdown",
   "id": "e7341e5a",
   "metadata": {},
   "source": [
    "## Format for OpenAI"
   ]
  },
  {
   "cell_type": "code",
   "execution_count": 8,
   "id": "867a26c4",
   "metadata": {},
   "outputs": [],
   "source": [
    "from pydantic import create_model\n",
    "import inspect, json\n",
    "from inspect import Parameter\n",
    "\n",
    "def schema(f):\n",
    "    kw = {n: (o.annotation, ... if o.default == Parameter.empty else o.default)\n",
    "          for n, o in inspect.signature(f).parameters.items()}\n",
    "    s = create_model(f'Input for `{f.__name__}`', **kw).model_json_schema()\n",
    "    function_schema = dict(name=f.__name__, description=f.__doc__, parameters=s)\n",
    "    return {\n",
    "        \"type\": \"function\",\n",
    "        \"function\": function_schema\n",
    "    }\n",
    "\n",
    "def call_func(name, arguments):\n",
    "    f = globals()[name]\n",
    "    return f(**json.loads(arguments))"
   ]
  },
  {
   "cell_type": "code",
   "execution_count": 9,
   "id": "79cc98de",
   "metadata": {},
   "outputs": [
    {
     "data": {
      "text/plain": [
       "{'type': 'function',\n",
       " 'function': {'name': 'sum',\n",
       "  'description': 'Adds a + b',\n",
       "  'parameters': {'properties': {'a': {'title': 'A', 'type': 'integer'},\n",
       "    'b': {'default': 1, 'title': 'B', 'type': 'integer'}},\n",
       "   'required': ['a'],\n",
       "   'title': 'Input for `sum`',\n",
       "   'type': 'object'}}}"
      ]
     },
     "execution_count": 9,
     "metadata": {},
     "output_type": "execute_result"
    }
   ],
   "source": [
    "schema(sum)"
   ]
  },
  {
   "cell_type": "code",
   "execution_count": 10,
   "id": "6e1c4dd1",
   "metadata": {},
   "outputs": [
    {
     "data": {
      "text/plain": [
       "5"
      ]
     },
     "execution_count": 10,
     "metadata": {},
     "output_type": "execute_result"
    }
   ],
   "source": [
    "call_func(\"sum\", '{\"a\": 2, \"b\": 3}')"
   ]
  },
  {
   "cell_type": "code",
   "execution_count": 11,
   "id": "206314d0",
   "metadata": {},
   "outputs": [],
   "source": [
    "import os\n",
    "from dotenv import load_dotenv\n",
    "\n",
    "load_dotenv(override=True)  # take environment variables from .env.\n",
    "\n",
    "from openai import OpenAI\n",
    "\n",
    "client = OpenAI(\n",
    "    base_url=os.getenv(\"OPENAI_API_BASE\"),\n",
    "    api_key=os.getenv(\"OPENAI_API_KEY\")\n",
    ")\n",
    "\n",
    "def chat_completion(\n",
    "    message,\n",
    "    model=\"gpt-4\",\n",
    "    prompt=\"You are a helpful assistant.\",\n",
    "    temperature=0,\n",
    "    messages=[],\n",
    "    tools=[]\n",
    "):\n",
    "    # Add the prompt to the messages list\n",
    "    if prompt is not None:\n",
    "        messages = [{\"role\": \"system\", \"content\": prompt}] + messages\n",
    "\n",
    "    if message is not None:\n",
    "        # Add the user's message to the messages list\n",
    "        messages += [{\"role\": \"user\", \"content\": message}]\n",
    "\n",
    "    # NEW\n",
    "    if tools:\n",
    "        tool_schemas = [schema(f) for f in tools]\n",
    "    else:\n",
    "        tool_schemas = None\n",
    "        \n",
    "    # Make an API call to the OpenAI ChatCompletion endpoint with the model and messages\n",
    "    print(f\"messages: {messages}\")\n",
    "    completion = client.chat.completions.create(\n",
    "        model=model,\n",
    "        messages=messages,\n",
    "        temperature=temperature,\n",
    "        tools=tool_schemas\n",
    "    )\n",
    "    \n",
    "    # Updated\n",
    "    assistant_message = completion.choices[0].message\n",
    "        \n",
    "    return assistant_message"
   ]
  },
  {
   "cell_type": "code",
   "execution_count": 12,
   "id": "857b262a",
   "metadata": {},
   "outputs": [
    {
     "name": "stdout",
     "output_type": "stream",
     "text": [
      "messages: [{'role': 'system', 'content': 'You are a helpful assistant.'}, {'role': 'user', 'content': 'Add 2+3'}]\n"
     ]
    },
    {
     "data": {
      "text/plain": [
       "ChatCompletionMessage(content=None, role='assistant', function_call=None, tool_calls=[ChatCompletionMessageToolCall(id='call_33o4Q8dwosb40iYmqdBvGwxH', function=Function(arguments='{\\n  \"a\": 2,\\n  \"b\": 3\\n}', name='sum'), type='function')])"
      ]
     },
     "execution_count": 12,
     "metadata": {},
     "output_type": "execute_result"
    }
   ],
   "source": [
    "chat_completion(\"Add 2+3\", model=\"gpt-4\", tools=[sum])"
   ]
  },
  {
   "cell_type": "code",
   "execution_count": 18,
   "id": "750d9b51",
   "metadata": {},
   "outputs": [],
   "source": [
    "# Define a function to handle the chat interaction with the AI model\n",
    "def chat(message, chatbot_messages, history_state):\n",
    "    prompt = \"\"\"\n",
    "    You are a helpful AI assistant named Bob created by Valley Day & Night Clinic in Brownsville, TX.\n",
    "\n",
    "    Today's date: {todays_date}\n",
    "    Current time: {current_time}\n",
    "    \n",
    "    ## Task\n",
    "    \n",
    "    Your job is to provide an amazing customer service experience for potential customers of Day & Night Clinic and\n",
    "    current customers.\n",
    "    \n",
    "    Additionally, you are renowned for converting leads into customers.\n",
    "    \n",
    "    As an AI assistant, you will help faciliate 'check-ups' for Valley Day & Night Clinic's services.\n",
    "    \n",
    "    ## Check-Up Services\n",
    "    \n",
    "    Standard - copay of $40 per person\n",
    "    \n",
    "    A $100 charge will be deducted upon not showing up to the walk-in/appointment at all, so let the customer know about this detail.\n",
    "    \n",
    "    ## Walk-ins\n",
    "    \n",
    "    Any person can choose to walk into the clinic during our work hours from 8 A.M. to 5 P.M. and pay the $40 copay.\n",
    "    \n",
    "    ## Prices\n",
    "    \n",
    "    Prices for a standard check-up are $40 as a copay per person admitted into the clinic, regardless of whether it's an \n",
    "    appointment or a walk-in.\n",
    "    \n",
    "    ## Appointments\n",
    "    \n",
    "    If a customer expresses intent for an appointment what they mean is that they would like to schedule a check-up for the Check-Up Services.\n",
    "        \n",
    "    Before getting down any of their details, you should always check availability and provide it to the customer.\n",
    "    \n",
    "    They don't have a user interface or anything to indicate availability and are relying on you to tell them.\n",
    "    \n",
    "    When displaying availability do not display slot IDs as that maps to our internal database IDs and is SENSITIVE.\n",
    "    \n",
    "    ## Checkup Scheduling Process\n",
    "    \n",
    "    Incrementally ask the customer for the correct information\n",
    "    \n",
    "    1. Double check that the service they selected is appointment.\n",
    "    2. Show them the available appointment slots and identify the one they are interested in.\n",
    "    3. What their name and phone number is.\n",
    "    4. Schedule the appointment.\n",
    "    \n",
    "    It is important that you break this up into smaller interactions to not overwhelm the user.\n",
    "    \n",
    "    Getting their name and phone number before scheduling the appointment is important in case the session gets disconnected.\n",
    "    \"\"\".format(\n",
    "        todays_date=get_todays_date(),\n",
    "        current_time=get_current_time()\n",
    "    )\n",
    "    \n",
    "    # Initialize chatbot_messages and history_state if they are not provided\n",
    "    allowed_tools = [sum, weather, get_tomorrows_date, user_location, schedule_checkup, get_availability]\n",
    "    chatbot_messages = chatbot_messages or []\n",
    "    history_state = history_state or []\n",
    "    \n",
    "    # Try to get the AI's reply using the chat_completion\n",
    "    try:\n",
    "        assistant_message = chat_completion(message, model=\"gpt-4\", prompt=prompt, messages=history_state, tools=allowed_tools)\n",
    "    except Exception as e:\n",
    "        # If an error occurs, raise a Gradio error\n",
    "        raise gr.Error(e)\n",
    "        \n",
    "    # UPDATED\n",
    "    while(assistant_message.tool_calls):\n",
    "        for tool_call in assistant_message.tool_calls:\n",
    "            tool_call_json = json.dumps({ \"name\": tool_call.function.name, \"arguments\": tool_call.function.arguments})\n",
    "            history_state.append({\"role\": assistant_message.role, \"content\": tool_call_json})\n",
    "            \n",
    "        for tool_call in assistant_message.tool_calls:\n",
    "            results = call_func(tool_call.function.name, tool_call.function.arguments)\n",
    "            results_str = str(results) # convert to string\n",
    "            history_state.append({\"role\": \"function\", \"tool_call_id\": tool_call.id, \"name\": tool_call.function.name, \"content\": results_str})\n",
    "\n",
    "        # Try to get the AI's reply using the get_ai_reply function\n",
    "        try:\n",
    "            assistant_message = chat_completion(None, model=\"gpt-4\", prompt=prompt, messages=history_state, tools=allowed_tools)\n",
    "        except Exception as e:\n",
    "            # If an error occurs, raise a Gradio error\n",
    "            raise gr.Error(e)\n",
    "        \n",
    "    # Append the user's message and the AI's reply to the chatbot_messages list\n",
    "    if(assistant_message.content):\n",
    "        chatbot_messages.append((message, assistant_message.content.strip()))\n",
    "    else:\n",
    "        chatbot_messages.append((message, None))\n",
    "    \n",
    "    # Append the user's message and the AI's reply to the history_state list\n",
    "    history_state.append({\"role\": \"user\", \"content\": message})\n",
    "    history_state.append({\"role\": \"assistant\", \"content\": assistant_message.content})\n",
    "    \n",
    "    # Return None (empty out the user's message textbox), the updated chatbot_messages, and the updated history_state\n",
    "    return None, chatbot_messages, history_state"
   ]
  },
  {
   "cell_type": "code",
   "execution_count": 19,
   "id": "dc481915",
   "metadata": {},
   "outputs": [
    {
     "name": "stdout",
     "output_type": "stream",
     "text": [
      "Running on local URL:  http://127.0.0.1:7866\n",
      "\n",
      "To create a public link, set `share=True` in `launch()`.\n"
     ]
    },
    {
     "data": {
      "text/html": [
       "<div><iframe src=\"http://127.0.0.1:7866/\" width=\"100%\" height=\"500\" allow=\"autoplay; camera; microphone; clipboard-read; clipboard-write;\" frameborder=\"0\" allowfullscreen></iframe></div>"
      ],
      "text/plain": [
       "<IPython.core.display.HTML object>"
      ]
     },
     "metadata": {},
     "output_type": "display_data"
    },
    {
     "data": {
      "text/plain": []
     },
     "execution_count": 19,
     "metadata": {},
     "output_type": "execute_result"
    },
    {
     "name": "stdout",
     "output_type": "stream",
     "text": [
      "messages: [{'role': 'system', 'content': \"\\n    You are a helpful AI assistant named Bob created by Valley Day & Night Clinic in Brownsville, TX.\\n\\n    Today's date: May 08, 2024\\n    Current time: 05/08/2024 02:44 PM\\n    \\n    ## Task\\n    \\n    Your job is to provide an amazing customer service experience for potential customers of Day & Night Clinic and\\n    current customers.\\n    \\n    Additionally, you are renowned for converting leads into customers.\\n    \\n    As an AI assistant, you will help faciliate 'check-ups' for Valley Day & Night Clinic's services.\\n    \\n    ## Check-Up Services\\n    \\n    Standard - copay of $40 per person\\n    \\n    A $100 charge will be deducted upon not showing up to the walk-in/appointment at all, so let the customer know about this detail.\\n    \\n    ## Walk-ins\\n    \\n    Any person can choose to walk into the clinic during our work hours from 8 A.M. to 5 P.M. and pay the $40 copay.\\n    \\n    ## Prices\\n    \\n    Prices for a standard check-up are $40 as a copay per person admitted into the clinic, regardless of whether it's an \\n    appointment or a walk-in.\\n    \\n    ## Appointments\\n    \\n    If a customer expresses intent for an appointment what they mean is that they would like to schedule a check-up for the Check-Up Services.\\n        \\n    Before getting down any of their details, you should always check availability and provide it to the customer.\\n    \\n    They don't have a user interface or anything to indicate availability and are relying on you to tell them.\\n    \\n    When displaying availability do not display slot IDs as that maps to our internal database IDs and is SENSITIVE.\\n    \\n    ## Checkup Scheduling Process\\n    \\n    Incrementally ask the customer for the correct information\\n    \\n    1. Double check that the service they selected is appointment.\\n    2. Show them the available appointment slots and identify the one they are interested in.\\n    3. What their name and phone number is.\\n    4. Schedule the appointment.\\n    \\n    It is important that you break this up into smaller interactions to not overwhelm the user.\\n    \\n    Getting their name and phone number before scheduling the appointment is important in case the session gets disconnected.\\n    \"}, {'role': 'user', 'content': 'Hello'}]\n",
      "messages: [{'role': 'system', 'content': \"\\n    You are a helpful AI assistant named Bob created by Valley Day & Night Clinic in Brownsville, TX.\\n\\n    Today's date: May 08, 2024\\n    Current time: 05/08/2024 06:43 PM\\n    \\n    ## Task\\n    \\n    Your job is to provide an amazing customer service experience for potential customers of Day & Night Clinic and\\n    current customers.\\n    \\n    Additionally, you are renowned for converting leads into customers.\\n    \\n    As an AI assistant, you will help faciliate 'check-ups' for Valley Day & Night Clinic's services.\\n    \\n    ## Check-Up Services\\n    \\n    Standard - copay of $40 per person\\n    \\n    A $100 charge will be deducted upon not showing up to the walk-in/appointment at all, so let the customer know about this detail.\\n    \\n    ## Walk-ins\\n    \\n    Any person can choose to walk into the clinic during our work hours from 8 A.M. to 5 P.M. and pay the $40 copay.\\n    \\n    ## Prices\\n    \\n    Prices for a standard check-up are $40 as a copay per person admitted into the clinic, regardless of whether it's an \\n    appointment or a walk-in.\\n    \\n    ## Appointments\\n    \\n    If a customer expresses intent for an appointment what they mean is that they would like to schedule a check-up for the Check-Up Services.\\n        \\n    Before getting down any of their details, you should always check availability and provide it to the customer.\\n    \\n    They don't have a user interface or anything to indicate availability and are relying on you to tell them.\\n    \\n    When displaying availability do not display slot IDs as that maps to our internal database IDs and is SENSITIVE.\\n    \\n    ## Checkup Scheduling Process\\n    \\n    Incrementally ask the customer for the correct information\\n    \\n    1. Double check that the service they selected is appointment.\\n    2. Show them the available appointment slots and identify the one they are interested in.\\n    3. What their name and phone number is.\\n    4. Schedule the appointment.\\n    \\n    It is important that you break this up into smaller interactions to not overwhelm the user.\\n    \\n    Getting their name and phone number before scheduling the appointment is important in case the session gets disconnected.\\n    \"}, {'role': 'user', 'content': 'Hello'}, {'role': 'assistant', 'content': 'Hello! How can I assist you today?'}, {'role': 'user', 'content': 'I would like to schedule a check up'}]\n",
      "messages: [{'role': 'system', 'content': \"\\n    You are a helpful AI assistant named Bob created by Valley Day & Night Clinic in Brownsville, TX.\\n\\n    Today's date: May 08, 2024\\n    Current time: 05/08/2024 06:43 PM\\n    \\n    ## Task\\n    \\n    Your job is to provide an amazing customer service experience for potential customers of Day & Night Clinic and\\n    current customers.\\n    \\n    Additionally, you are renowned for converting leads into customers.\\n    \\n    As an AI assistant, you will help faciliate 'check-ups' for Valley Day & Night Clinic's services.\\n    \\n    ## Check-Up Services\\n    \\n    Standard - copay of $40 per person\\n    \\n    A $100 charge will be deducted upon not showing up to the walk-in/appointment at all, so let the customer know about this detail.\\n    \\n    ## Walk-ins\\n    \\n    Any person can choose to walk into the clinic during our work hours from 8 A.M. to 5 P.M. and pay the $40 copay.\\n    \\n    ## Prices\\n    \\n    Prices for a standard check-up are $40 as a copay per person admitted into the clinic, regardless of whether it's an \\n    appointment or a walk-in.\\n    \\n    ## Appointments\\n    \\n    If a customer expresses intent for an appointment what they mean is that they would like to schedule a check-up for the Check-Up Services.\\n        \\n    Before getting down any of their details, you should always check availability and provide it to the customer.\\n    \\n    They don't have a user interface or anything to indicate availability and are relying on you to tell them.\\n    \\n    When displaying availability do not display slot IDs as that maps to our internal database IDs and is SENSITIVE.\\n    \\n    ## Checkup Scheduling Process\\n    \\n    Incrementally ask the customer for the correct information\\n    \\n    1. Double check that the service they selected is appointment.\\n    2. Show them the available appointment slots and identify the one they are interested in.\\n    3. What their name and phone number is.\\n    4. Schedule the appointment.\\n    \\n    It is important that you break this up into smaller interactions to not overwhelm the user.\\n    \\n    Getting their name and phone number before scheduling the appointment is important in case the session gets disconnected.\\n    \"}, {'role': 'user', 'content': 'Hello'}, {'role': 'assistant', 'content': 'Hello! How can I assist you today?'}, {'role': 'assistant', 'content': '{\"name\": \"get_availability\", \"arguments\": \"{}\"}'}, {'role': 'function', 'tool_call_id': 'call_GrEK0JQqCXfgYr7nLdudFNkQ', 'name': 'get_availability', 'content': \"[{'checkup_slot_id': 16, 'checkup_date': '05/08/2024', 'checkup_time': '01:00pm'}, {'checkup_slot_id': 3676, 'checkup_date': '05/08/2024', 'checkup_time': '01:00pm'}, {'checkup_slot_id': 7326, 'checkup_date': '05/08/2024', 'checkup_time': '01:00pm'}, {'checkup_slot_id': 17, 'checkup_date': '05/08/2024', 'checkup_time': '02:00pm'}, {'checkup_slot_id': 3677, 'checkup_date': '05/08/2024', 'checkup_time': '02:00pm'}, {'checkup_slot_id': 7327, 'checkup_date': '05/08/2024', 'checkup_time': '02:00pm'}, {'checkup_slot_id': 18, 'checkup_date': '05/08/2024', 'checkup_time': '03:00pm'}, {'checkup_slot_id': 3678, 'checkup_date': '05/08/2024', 'checkup_time': '03:00pm'}, {'checkup_slot_id': 7328, 'checkup_date': '05/08/2024', 'checkup_time': '03:00pm'}, {'checkup_slot_id': 19, 'checkup_date': '05/08/2024', 'checkup_time': '04:00pm'}, {'checkup_slot_id': 3679, 'checkup_date': '05/08/2024', 'checkup_time': '04:00pm'}, {'checkup_slot_id': 7329, 'checkup_date': '05/08/2024', 'checkup_time': '04:00pm'}, {'checkup_slot_id': 20, 'checkup_date': '05/08/2024', 'checkup_time': '05:00pm'}, {'checkup_slot_id': 3680, 'checkup_date': '05/08/2024', 'checkup_time': '05:00pm'}, {'checkup_slot_id': 7330, 'checkup_date': '05/08/2024', 'checkup_time': '05:00pm'}, {'checkup_slot_id': 11, 'checkup_date': '05/08/2024', 'checkup_time': '08:00am'}, {'checkup_slot_id': 3671, 'checkup_date': '05/08/2024', 'checkup_time': '08:00am'}, {'checkup_slot_id': 7321, 'checkup_date': '05/08/2024', 'checkup_time': '08:00am'}, {'checkup_slot_id': 12, 'checkup_date': '05/08/2024', 'checkup_time': '09:00am'}, {'checkup_slot_id': 3672, 'checkup_date': '05/08/2024', 'checkup_time': '09:00am'}, {'checkup_slot_id': 7322, 'checkup_date': '05/08/2024', 'checkup_time': '09:00am'}, {'checkup_slot_id': 13, 'checkup_date': '05/08/2024', 'checkup_time': '10:00am'}, {'checkup_slot_id': 3673, 'checkup_date': '05/08/2024', 'checkup_time': '10:00am'}, {'checkup_slot_id': 7323, 'checkup_date': '05/08/2024', 'checkup_time': '10:00am'}, {'checkup_slot_id': 14, 'checkup_date': '05/08/2024', 'checkup_time': '11:00am'}, {'checkup_slot_id': 3674, 'checkup_date': '05/08/2024', 'checkup_time': '11:00am'}, {'checkup_slot_id': 7324, 'checkup_date': '05/08/2024', 'checkup_time': '11:00am'}, {'checkup_slot_id': 15, 'checkup_date': '05/08/2024', 'checkup_time': '12:00pm'}, {'checkup_slot_id': 3675, 'checkup_date': '05/08/2024', 'checkup_time': '12:00pm'}, {'checkup_slot_id': 7325, 'checkup_date': '05/08/2024', 'checkup_time': '12:00pm'}, {'checkup_slot_id': 26, 'checkup_date': '05/09/2024', 'checkup_time': '01:00pm'}, {'checkup_slot_id': 3686, 'checkup_date': '05/09/2024', 'checkup_time': '01:00pm'}, {'checkup_slot_id': 7336, 'checkup_date': '05/09/2024', 'checkup_time': '01:00pm'}, {'checkup_slot_id': 27, 'checkup_date': '05/09/2024', 'checkup_time': '02:00pm'}, {'checkup_slot_id': 3687, 'checkup_date': '05/09/2024', 'checkup_time': '02:00pm'}, {'checkup_slot_id': 7337, 'checkup_date': '05/09/2024', 'checkup_time': '02:00pm'}, {'checkup_slot_id': 28, 'checkup_date': '05/09/2024', 'checkup_time': '03:00pm'}, {'checkup_slot_id': 3688, 'checkup_date': '05/09/2024', 'checkup_time': '03:00pm'}, {'checkup_slot_id': 7338, 'checkup_date': '05/09/2024', 'checkup_time': '03:00pm'}, {'checkup_slot_id': 29, 'checkup_date': '05/09/2024', 'checkup_time': '04:00pm'}, {'checkup_slot_id': 3689, 'checkup_date': '05/09/2024', 'checkup_time': '04:00pm'}, {'checkup_slot_id': 7339, 'checkup_date': '05/09/2024', 'checkup_time': '04:00pm'}, {'checkup_slot_id': 30, 'checkup_date': '05/09/2024', 'checkup_time': '05:00pm'}, {'checkup_slot_id': 3690, 'checkup_date': '05/09/2024', 'checkup_time': '05:00pm'}, {'checkup_slot_id': 7340, 'checkup_date': '05/09/2024', 'checkup_time': '05:00pm'}, {'checkup_slot_id': 21, 'checkup_date': '05/09/2024', 'checkup_time': '08:00am'}, {'checkup_slot_id': 3681, 'checkup_date': '05/09/2024', 'checkup_time': '08:00am'}, {'checkup_slot_id': 7331, 'checkup_date': '05/09/2024', 'checkup_time': '08:00am'}, {'checkup_slot_id': 22, 'checkup_date': '05/09/2024', 'checkup_time': '09:00am'}, {'checkup_slot_id': 3682, 'checkup_date': '05/09/2024', 'checkup_time': '09:00am'}, {'checkup_slot_id': 7332, 'checkup_date': '05/09/2024', 'checkup_time': '09:00am'}, {'checkup_slot_id': 23, 'checkup_date': '05/09/2024', 'checkup_time': '10:00am'}, {'checkup_slot_id': 3683, 'checkup_date': '05/09/2024', 'checkup_time': '10:00am'}, {'checkup_slot_id': 7333, 'checkup_date': '05/09/2024', 'checkup_time': '10:00am'}, {'checkup_slot_id': 24, 'checkup_date': '05/09/2024', 'checkup_time': '11:00am'}, {'checkup_slot_id': 3684, 'checkup_date': '05/09/2024', 'checkup_time': '11:00am'}, {'checkup_slot_id': 7334, 'checkup_date': '05/09/2024', 'checkup_time': '11:00am'}, {'checkup_slot_id': 25, 'checkup_date': '05/09/2024', 'checkup_time': '12:00pm'}, {'checkup_slot_id': 3685, 'checkup_date': '05/09/2024', 'checkup_time': '12:00pm'}, {'checkup_slot_id': 7335, 'checkup_date': '05/09/2024', 'checkup_time': '12:00pm'}]\"}]\n"
     ]
    },
    {
     "name": "stdout",
     "output_type": "stream",
     "text": [
      "messages: [{'role': 'system', 'content': \"\\n    You are a helpful AI assistant named Bob created by Valley Day & Night Clinic in Brownsville, TX.\\n\\n    Today's date: May 08, 2024\\n    Current time: 05/08/2024 06:44 PM\\n    \\n    ## Task\\n    \\n    Your job is to provide an amazing customer service experience for potential customers of Day & Night Clinic and\\n    current customers.\\n    \\n    Additionally, you are renowned for converting leads into customers.\\n    \\n    As an AI assistant, you will help faciliate 'check-ups' for Valley Day & Night Clinic's services.\\n    \\n    ## Check-Up Services\\n    \\n    Standard - copay of $40 per person\\n    \\n    A $100 charge will be deducted upon not showing up to the walk-in/appointment at all, so let the customer know about this detail.\\n    \\n    ## Walk-ins\\n    \\n    Any person can choose to walk into the clinic during our work hours from 8 A.M. to 5 P.M. and pay the $40 copay.\\n    \\n    ## Prices\\n    \\n    Prices for a standard check-up are $40 as a copay per person admitted into the clinic, regardless of whether it's an \\n    appointment or a walk-in.\\n    \\n    ## Appointments\\n    \\n    If a customer expresses intent for an appointment what they mean is that they would like to schedule a check-up for the Check-Up Services.\\n        \\n    Before getting down any of their details, you should always check availability and provide it to the customer.\\n    \\n    They don't have a user interface or anything to indicate availability and are relying on you to tell them.\\n    \\n    When displaying availability do not display slot IDs as that maps to our internal database IDs and is SENSITIVE.\\n    \\n    ## Checkup Scheduling Process\\n    \\n    Incrementally ask the customer for the correct information\\n    \\n    1. Double check that the service they selected is appointment.\\n    2. Show them the available appointment slots and identify the one they are interested in.\\n    3. What their name and phone number is.\\n    4. Schedule the appointment.\\n    \\n    It is important that you break this up into smaller interactions to not overwhelm the user.\\n    \\n    Getting their name and phone number before scheduling the appointment is important in case the session gets disconnected.\\n    \"}, {'role': 'user', 'content': 'Hello'}, {'role': 'assistant', 'content': 'Hello! How can I assist you today?'}, {'role': 'assistant', 'content': '{\"name\": \"get_availability\", \"arguments\": \"{}\"}'}, {'role': 'function', 'tool_call_id': 'call_GrEK0JQqCXfgYr7nLdudFNkQ', 'name': 'get_availability', 'content': \"[{'checkup_slot_id': 16, 'checkup_date': '05/08/2024', 'checkup_time': '01:00pm'}, {'checkup_slot_id': 3676, 'checkup_date': '05/08/2024', 'checkup_time': '01:00pm'}, {'checkup_slot_id': 7326, 'checkup_date': '05/08/2024', 'checkup_time': '01:00pm'}, {'checkup_slot_id': 17, 'checkup_date': '05/08/2024', 'checkup_time': '02:00pm'}, {'checkup_slot_id': 3677, 'checkup_date': '05/08/2024', 'checkup_time': '02:00pm'}, {'checkup_slot_id': 7327, 'checkup_date': '05/08/2024', 'checkup_time': '02:00pm'}, {'checkup_slot_id': 18, 'checkup_date': '05/08/2024', 'checkup_time': '03:00pm'}, {'checkup_slot_id': 3678, 'checkup_date': '05/08/2024', 'checkup_time': '03:00pm'}, {'checkup_slot_id': 7328, 'checkup_date': '05/08/2024', 'checkup_time': '03:00pm'}, {'checkup_slot_id': 19, 'checkup_date': '05/08/2024', 'checkup_time': '04:00pm'}, {'checkup_slot_id': 3679, 'checkup_date': '05/08/2024', 'checkup_time': '04:00pm'}, {'checkup_slot_id': 7329, 'checkup_date': '05/08/2024', 'checkup_time': '04:00pm'}, {'checkup_slot_id': 20, 'checkup_date': '05/08/2024', 'checkup_time': '05:00pm'}, {'checkup_slot_id': 3680, 'checkup_date': '05/08/2024', 'checkup_time': '05:00pm'}, {'checkup_slot_id': 7330, 'checkup_date': '05/08/2024', 'checkup_time': '05:00pm'}, {'checkup_slot_id': 11, 'checkup_date': '05/08/2024', 'checkup_time': '08:00am'}, {'checkup_slot_id': 3671, 'checkup_date': '05/08/2024', 'checkup_time': '08:00am'}, {'checkup_slot_id': 7321, 'checkup_date': '05/08/2024', 'checkup_time': '08:00am'}, {'checkup_slot_id': 12, 'checkup_date': '05/08/2024', 'checkup_time': '09:00am'}, {'checkup_slot_id': 3672, 'checkup_date': '05/08/2024', 'checkup_time': '09:00am'}, {'checkup_slot_id': 7322, 'checkup_date': '05/08/2024', 'checkup_time': '09:00am'}, {'checkup_slot_id': 13, 'checkup_date': '05/08/2024', 'checkup_time': '10:00am'}, {'checkup_slot_id': 3673, 'checkup_date': '05/08/2024', 'checkup_time': '10:00am'}, {'checkup_slot_id': 7323, 'checkup_date': '05/08/2024', 'checkup_time': '10:00am'}, {'checkup_slot_id': 14, 'checkup_date': '05/08/2024', 'checkup_time': '11:00am'}, {'checkup_slot_id': 3674, 'checkup_date': '05/08/2024', 'checkup_time': '11:00am'}, {'checkup_slot_id': 7324, 'checkup_date': '05/08/2024', 'checkup_time': '11:00am'}, {'checkup_slot_id': 15, 'checkup_date': '05/08/2024', 'checkup_time': '12:00pm'}, {'checkup_slot_id': 3675, 'checkup_date': '05/08/2024', 'checkup_time': '12:00pm'}, {'checkup_slot_id': 7325, 'checkup_date': '05/08/2024', 'checkup_time': '12:00pm'}, {'checkup_slot_id': 26, 'checkup_date': '05/09/2024', 'checkup_time': '01:00pm'}, {'checkup_slot_id': 3686, 'checkup_date': '05/09/2024', 'checkup_time': '01:00pm'}, {'checkup_slot_id': 7336, 'checkup_date': '05/09/2024', 'checkup_time': '01:00pm'}, {'checkup_slot_id': 27, 'checkup_date': '05/09/2024', 'checkup_time': '02:00pm'}, {'checkup_slot_id': 3687, 'checkup_date': '05/09/2024', 'checkup_time': '02:00pm'}, {'checkup_slot_id': 7337, 'checkup_date': '05/09/2024', 'checkup_time': '02:00pm'}, {'checkup_slot_id': 28, 'checkup_date': '05/09/2024', 'checkup_time': '03:00pm'}, {'checkup_slot_id': 3688, 'checkup_date': '05/09/2024', 'checkup_time': '03:00pm'}, {'checkup_slot_id': 7338, 'checkup_date': '05/09/2024', 'checkup_time': '03:00pm'}, {'checkup_slot_id': 29, 'checkup_date': '05/09/2024', 'checkup_time': '04:00pm'}, {'checkup_slot_id': 3689, 'checkup_date': '05/09/2024', 'checkup_time': '04:00pm'}, {'checkup_slot_id': 7339, 'checkup_date': '05/09/2024', 'checkup_time': '04:00pm'}, {'checkup_slot_id': 30, 'checkup_date': '05/09/2024', 'checkup_time': '05:00pm'}, {'checkup_slot_id': 3690, 'checkup_date': '05/09/2024', 'checkup_time': '05:00pm'}, {'checkup_slot_id': 7340, 'checkup_date': '05/09/2024', 'checkup_time': '05:00pm'}, {'checkup_slot_id': 21, 'checkup_date': '05/09/2024', 'checkup_time': '08:00am'}, {'checkup_slot_id': 3681, 'checkup_date': '05/09/2024', 'checkup_time': '08:00am'}, {'checkup_slot_id': 7331, 'checkup_date': '05/09/2024', 'checkup_time': '08:00am'}, {'checkup_slot_id': 22, 'checkup_date': '05/09/2024', 'checkup_time': '09:00am'}, {'checkup_slot_id': 3682, 'checkup_date': '05/09/2024', 'checkup_time': '09:00am'}, {'checkup_slot_id': 7332, 'checkup_date': '05/09/2024', 'checkup_time': '09:00am'}, {'checkup_slot_id': 23, 'checkup_date': '05/09/2024', 'checkup_time': '10:00am'}, {'checkup_slot_id': 3683, 'checkup_date': '05/09/2024', 'checkup_time': '10:00am'}, {'checkup_slot_id': 7333, 'checkup_date': '05/09/2024', 'checkup_time': '10:00am'}, {'checkup_slot_id': 24, 'checkup_date': '05/09/2024', 'checkup_time': '11:00am'}, {'checkup_slot_id': 3684, 'checkup_date': '05/09/2024', 'checkup_time': '11:00am'}, {'checkup_slot_id': 7334, 'checkup_date': '05/09/2024', 'checkup_time': '11:00am'}, {'checkup_slot_id': 25, 'checkup_date': '05/09/2024', 'checkup_time': '12:00pm'}, {'checkup_slot_id': 3685, 'checkup_date': '05/09/2024', 'checkup_time': '12:00pm'}, {'checkup_slot_id': 7335, 'checkup_date': '05/09/2024', 'checkup_time': '12:00pm'}]\"}, {'role': 'user', 'content': 'I would like to schedule a check up'}, {'role': 'assistant', 'content': 'Sure, I can help with that. We have several available slots for check-ups. Here are some options:\\n\\nFor today, May 8, 2024, we have the following slots available:\\n- 1:00 PM\\n- 2:00 PM\\n- 3:00 PM\\n- 4:00 PM\\n- 5:00 PM\\n\\nFor tomorrow, May 9, 2024, we have the following slots available:\\n- 8:00 AM\\n- 9:00 AM\\n- 10:00 AM\\n- 11:00 AM\\n- 12:00 PM\\n- 1:00 PM\\n- 2:00 PM\\n- 3:00 PM\\n- 4:00 PM\\n- 5:00 PM\\n\\nPlease let me know which slot you would prefer for your check-up.'}, {'role': 'user', 'content': 'I would like to schedule the slot for tomorrow at 10 AM'}]\n"
     ]
    },
    {
     "name": "stdout",
     "output_type": "stream",
     "text": [
      "messages: [{'role': 'system', 'content': \"\\n    You are a helpful AI assistant named Bob created by Valley Day & Night Clinic in Brownsville, TX.\\n\\n    Today's date: May 08, 2024\\n    Current time: 05/08/2024 06:44 PM\\n    \\n    ## Task\\n    \\n    Your job is to provide an amazing customer service experience for potential customers of Day & Night Clinic and\\n    current customers.\\n    \\n    Additionally, you are renowned for converting leads into customers.\\n    \\n    As an AI assistant, you will help faciliate 'check-ups' for Valley Day & Night Clinic's services.\\n    \\n    ## Check-Up Services\\n    \\n    Standard - copay of $40 per person\\n    \\n    A $100 charge will be deducted upon not showing up to the walk-in/appointment at all, so let the customer know about this detail.\\n    \\n    ## Walk-ins\\n    \\n    Any person can choose to walk into the clinic during our work hours from 8 A.M. to 5 P.M. and pay the $40 copay.\\n    \\n    ## Prices\\n    \\n    Prices for a standard check-up are $40 as a copay per person admitted into the clinic, regardless of whether it's an \\n    appointment or a walk-in.\\n    \\n    ## Appointments\\n    \\n    If a customer expresses intent for an appointment what they mean is that they would like to schedule a check-up for the Check-Up Services.\\n        \\n    Before getting down any of their details, you should always check availability and provide it to the customer.\\n    \\n    They don't have a user interface or anything to indicate availability and are relying on you to tell them.\\n    \\n    When displaying availability do not display slot IDs as that maps to our internal database IDs and is SENSITIVE.\\n    \\n    ## Checkup Scheduling Process\\n    \\n    Incrementally ask the customer for the correct information\\n    \\n    1. Double check that the service they selected is appointment.\\n    2. Show them the available appointment slots and identify the one they are interested in.\\n    3. What their name and phone number is.\\n    4. Schedule the appointment.\\n    \\n    It is important that you break this up into smaller interactions to not overwhelm the user.\\n    \\n    Getting their name and phone number before scheduling the appointment is important in case the session gets disconnected.\\n    \"}, {'role': 'user', 'content': 'Hello'}, {'role': 'assistant', 'content': 'Hello! How can I assist you today?'}, {'role': 'assistant', 'content': '{\"name\": \"get_availability\", \"arguments\": \"{}\"}'}, {'role': 'function', 'tool_call_id': 'call_GrEK0JQqCXfgYr7nLdudFNkQ', 'name': 'get_availability', 'content': \"[{'checkup_slot_id': 16, 'checkup_date': '05/08/2024', 'checkup_time': '01:00pm'}, {'checkup_slot_id': 3676, 'checkup_date': '05/08/2024', 'checkup_time': '01:00pm'}, {'checkup_slot_id': 7326, 'checkup_date': '05/08/2024', 'checkup_time': '01:00pm'}, {'checkup_slot_id': 17, 'checkup_date': '05/08/2024', 'checkup_time': '02:00pm'}, {'checkup_slot_id': 3677, 'checkup_date': '05/08/2024', 'checkup_time': '02:00pm'}, {'checkup_slot_id': 7327, 'checkup_date': '05/08/2024', 'checkup_time': '02:00pm'}, {'checkup_slot_id': 18, 'checkup_date': '05/08/2024', 'checkup_time': '03:00pm'}, {'checkup_slot_id': 3678, 'checkup_date': '05/08/2024', 'checkup_time': '03:00pm'}, {'checkup_slot_id': 7328, 'checkup_date': '05/08/2024', 'checkup_time': '03:00pm'}, {'checkup_slot_id': 19, 'checkup_date': '05/08/2024', 'checkup_time': '04:00pm'}, {'checkup_slot_id': 3679, 'checkup_date': '05/08/2024', 'checkup_time': '04:00pm'}, {'checkup_slot_id': 7329, 'checkup_date': '05/08/2024', 'checkup_time': '04:00pm'}, {'checkup_slot_id': 20, 'checkup_date': '05/08/2024', 'checkup_time': '05:00pm'}, {'checkup_slot_id': 3680, 'checkup_date': '05/08/2024', 'checkup_time': '05:00pm'}, {'checkup_slot_id': 7330, 'checkup_date': '05/08/2024', 'checkup_time': '05:00pm'}, {'checkup_slot_id': 11, 'checkup_date': '05/08/2024', 'checkup_time': '08:00am'}, {'checkup_slot_id': 3671, 'checkup_date': '05/08/2024', 'checkup_time': '08:00am'}, {'checkup_slot_id': 7321, 'checkup_date': '05/08/2024', 'checkup_time': '08:00am'}, {'checkup_slot_id': 12, 'checkup_date': '05/08/2024', 'checkup_time': '09:00am'}, {'checkup_slot_id': 3672, 'checkup_date': '05/08/2024', 'checkup_time': '09:00am'}, {'checkup_slot_id': 7322, 'checkup_date': '05/08/2024', 'checkup_time': '09:00am'}, {'checkup_slot_id': 13, 'checkup_date': '05/08/2024', 'checkup_time': '10:00am'}, {'checkup_slot_id': 3673, 'checkup_date': '05/08/2024', 'checkup_time': '10:00am'}, {'checkup_slot_id': 7323, 'checkup_date': '05/08/2024', 'checkup_time': '10:00am'}, {'checkup_slot_id': 14, 'checkup_date': '05/08/2024', 'checkup_time': '11:00am'}, {'checkup_slot_id': 3674, 'checkup_date': '05/08/2024', 'checkup_time': '11:00am'}, {'checkup_slot_id': 7324, 'checkup_date': '05/08/2024', 'checkup_time': '11:00am'}, {'checkup_slot_id': 15, 'checkup_date': '05/08/2024', 'checkup_time': '12:00pm'}, {'checkup_slot_id': 3675, 'checkup_date': '05/08/2024', 'checkup_time': '12:00pm'}, {'checkup_slot_id': 7325, 'checkup_date': '05/08/2024', 'checkup_time': '12:00pm'}, {'checkup_slot_id': 26, 'checkup_date': '05/09/2024', 'checkup_time': '01:00pm'}, {'checkup_slot_id': 3686, 'checkup_date': '05/09/2024', 'checkup_time': '01:00pm'}, {'checkup_slot_id': 7336, 'checkup_date': '05/09/2024', 'checkup_time': '01:00pm'}, {'checkup_slot_id': 27, 'checkup_date': '05/09/2024', 'checkup_time': '02:00pm'}, {'checkup_slot_id': 3687, 'checkup_date': '05/09/2024', 'checkup_time': '02:00pm'}, {'checkup_slot_id': 7337, 'checkup_date': '05/09/2024', 'checkup_time': '02:00pm'}, {'checkup_slot_id': 28, 'checkup_date': '05/09/2024', 'checkup_time': '03:00pm'}, {'checkup_slot_id': 3688, 'checkup_date': '05/09/2024', 'checkup_time': '03:00pm'}, {'checkup_slot_id': 7338, 'checkup_date': '05/09/2024', 'checkup_time': '03:00pm'}, {'checkup_slot_id': 29, 'checkup_date': '05/09/2024', 'checkup_time': '04:00pm'}, {'checkup_slot_id': 3689, 'checkup_date': '05/09/2024', 'checkup_time': '04:00pm'}, {'checkup_slot_id': 7339, 'checkup_date': '05/09/2024', 'checkup_time': '04:00pm'}, {'checkup_slot_id': 30, 'checkup_date': '05/09/2024', 'checkup_time': '05:00pm'}, {'checkup_slot_id': 3690, 'checkup_date': '05/09/2024', 'checkup_time': '05:00pm'}, {'checkup_slot_id': 7340, 'checkup_date': '05/09/2024', 'checkup_time': '05:00pm'}, {'checkup_slot_id': 21, 'checkup_date': '05/09/2024', 'checkup_time': '08:00am'}, {'checkup_slot_id': 3681, 'checkup_date': '05/09/2024', 'checkup_time': '08:00am'}, {'checkup_slot_id': 7331, 'checkup_date': '05/09/2024', 'checkup_time': '08:00am'}, {'checkup_slot_id': 22, 'checkup_date': '05/09/2024', 'checkup_time': '09:00am'}, {'checkup_slot_id': 3682, 'checkup_date': '05/09/2024', 'checkup_time': '09:00am'}, {'checkup_slot_id': 7332, 'checkup_date': '05/09/2024', 'checkup_time': '09:00am'}, {'checkup_slot_id': 23, 'checkup_date': '05/09/2024', 'checkup_time': '10:00am'}, {'checkup_slot_id': 3683, 'checkup_date': '05/09/2024', 'checkup_time': '10:00am'}, {'checkup_slot_id': 7333, 'checkup_date': '05/09/2024', 'checkup_time': '10:00am'}, {'checkup_slot_id': 24, 'checkup_date': '05/09/2024', 'checkup_time': '11:00am'}, {'checkup_slot_id': 3684, 'checkup_date': '05/09/2024', 'checkup_time': '11:00am'}, {'checkup_slot_id': 7334, 'checkup_date': '05/09/2024', 'checkup_time': '11:00am'}, {'checkup_slot_id': 25, 'checkup_date': '05/09/2024', 'checkup_time': '12:00pm'}, {'checkup_slot_id': 3685, 'checkup_date': '05/09/2024', 'checkup_time': '12:00pm'}, {'checkup_slot_id': 7335, 'checkup_date': '05/09/2024', 'checkup_time': '12:00pm'}]\"}, {'role': 'user', 'content': 'I would like to schedule a check up'}, {'role': 'assistant', 'content': 'Sure, I can help with that. We have several available slots for check-ups. Here are some options:\\n\\nFor today, May 8, 2024, we have the following slots available:\\n- 1:00 PM\\n- 2:00 PM\\n- 3:00 PM\\n- 4:00 PM\\n- 5:00 PM\\n\\nFor tomorrow, May 9, 2024, we have the following slots available:\\n- 8:00 AM\\n- 9:00 AM\\n- 10:00 AM\\n- 11:00 AM\\n- 12:00 PM\\n- 1:00 PM\\n- 2:00 PM\\n- 3:00 PM\\n- 4:00 PM\\n- 5:00 PM\\n\\nPlease let me know which slot you would prefer for your check-up.'}, {'role': 'user', 'content': 'I would like to schedule the slot for tomorrow at 10 AM'}, {'role': 'assistant', 'content': 'Great! I can help you with that. Before I schedule your appointment, could you please provide me with your full name and phone number? This is important in case the session gets disconnected.'}, {'role': 'user', 'content': 'Matthew Gault and my phone number is 9562661805'}]\n"
     ]
    },
    {
     "name": "stderr",
     "output_type": "stream",
     "text": [
      "Status code 403 from https://nominatim.openstreetmap.org/search: ERROR - 403 Client Error: Forbidden for url: https://nominatim.openstreetmap.org/search?q=&format=jsonv2&addressdetails=1&limit=1\n"
     ]
    },
    {
     "name": "stdout",
     "output_type": "stream",
     "text": [
      "<[ERROR - 403 Client Error: Forbidden for url: https://nominatim.openstreetmap.org/search?q=&format=jsonv2&addressdetails=1&limit=1] Osm - Geocode [empty]>\n",
      "None\n",
      "messages: [{'role': 'system', 'content': \"\\n    You are a helpful AI assistant named Bob created by Valley Day & Night Clinic in Brownsville, TX.\\n\\n    Today's date: May 08, 2024\\n    Current time: 05/08/2024 06:44 PM\\n    \\n    ## Task\\n    \\n    Your job is to provide an amazing customer service experience for potential customers of Day & Night Clinic and\\n    current customers.\\n    \\n    Additionally, you are renowned for converting leads into customers.\\n    \\n    As an AI assistant, you will help faciliate 'check-ups' for Valley Day & Night Clinic's services.\\n    \\n    ## Check-Up Services\\n    \\n    Standard - copay of $40 per person\\n    \\n    A $100 charge will be deducted upon not showing up to the walk-in/appointment at all, so let the customer know about this detail.\\n    \\n    ## Walk-ins\\n    \\n    Any person can choose to walk into the clinic during our work hours from 8 A.M. to 5 P.M. and pay the $40 copay.\\n    \\n    ## Prices\\n    \\n    Prices for a standard check-up are $40 as a copay per person admitted into the clinic, regardless of whether it's an \\n    appointment or a walk-in.\\n    \\n    ## Appointments\\n    \\n    If a customer expresses intent for an appointment what they mean is that they would like to schedule a check-up for the Check-Up Services.\\n        \\n    Before getting down any of their details, you should always check availability and provide it to the customer.\\n    \\n    They don't have a user interface or anything to indicate availability and are relying on you to tell them.\\n    \\n    When displaying availability do not display slot IDs as that maps to our internal database IDs and is SENSITIVE.\\n    \\n    ## Checkup Scheduling Process\\n    \\n    Incrementally ask the customer for the correct information\\n    \\n    1. Double check that the service they selected is appointment.\\n    2. Show them the available appointment slots and identify the one they are interested in.\\n    3. What their name and phone number is.\\n    4. Schedule the appointment.\\n    \\n    It is important that you break this up into smaller interactions to not overwhelm the user.\\n    \\n    Getting their name and phone number before scheduling the appointment is important in case the session gets disconnected.\\n    \"}, {'role': 'user', 'content': 'Hello'}, {'role': 'assistant', 'content': 'Hello! How can I assist you today?'}, {'role': 'assistant', 'content': '{\"name\": \"get_availability\", \"arguments\": \"{}\"}'}, {'role': 'function', 'tool_call_id': 'call_GrEK0JQqCXfgYr7nLdudFNkQ', 'name': 'get_availability', 'content': \"[{'checkup_slot_id': 16, 'checkup_date': '05/08/2024', 'checkup_time': '01:00pm'}, {'checkup_slot_id': 3676, 'checkup_date': '05/08/2024', 'checkup_time': '01:00pm'}, {'checkup_slot_id': 7326, 'checkup_date': '05/08/2024', 'checkup_time': '01:00pm'}, {'checkup_slot_id': 17, 'checkup_date': '05/08/2024', 'checkup_time': '02:00pm'}, {'checkup_slot_id': 3677, 'checkup_date': '05/08/2024', 'checkup_time': '02:00pm'}, {'checkup_slot_id': 7327, 'checkup_date': '05/08/2024', 'checkup_time': '02:00pm'}, {'checkup_slot_id': 18, 'checkup_date': '05/08/2024', 'checkup_time': '03:00pm'}, {'checkup_slot_id': 3678, 'checkup_date': '05/08/2024', 'checkup_time': '03:00pm'}, {'checkup_slot_id': 7328, 'checkup_date': '05/08/2024', 'checkup_time': '03:00pm'}, {'checkup_slot_id': 19, 'checkup_date': '05/08/2024', 'checkup_time': '04:00pm'}, {'checkup_slot_id': 3679, 'checkup_date': '05/08/2024', 'checkup_time': '04:00pm'}, {'checkup_slot_id': 7329, 'checkup_date': '05/08/2024', 'checkup_time': '04:00pm'}, {'checkup_slot_id': 20, 'checkup_date': '05/08/2024', 'checkup_time': '05:00pm'}, {'checkup_slot_id': 3680, 'checkup_date': '05/08/2024', 'checkup_time': '05:00pm'}, {'checkup_slot_id': 7330, 'checkup_date': '05/08/2024', 'checkup_time': '05:00pm'}, {'checkup_slot_id': 11, 'checkup_date': '05/08/2024', 'checkup_time': '08:00am'}, {'checkup_slot_id': 3671, 'checkup_date': '05/08/2024', 'checkup_time': '08:00am'}, {'checkup_slot_id': 7321, 'checkup_date': '05/08/2024', 'checkup_time': '08:00am'}, {'checkup_slot_id': 12, 'checkup_date': '05/08/2024', 'checkup_time': '09:00am'}, {'checkup_slot_id': 3672, 'checkup_date': '05/08/2024', 'checkup_time': '09:00am'}, {'checkup_slot_id': 7322, 'checkup_date': '05/08/2024', 'checkup_time': '09:00am'}, {'checkup_slot_id': 13, 'checkup_date': '05/08/2024', 'checkup_time': '10:00am'}, {'checkup_slot_id': 3673, 'checkup_date': '05/08/2024', 'checkup_time': '10:00am'}, {'checkup_slot_id': 7323, 'checkup_date': '05/08/2024', 'checkup_time': '10:00am'}, {'checkup_slot_id': 14, 'checkup_date': '05/08/2024', 'checkup_time': '11:00am'}, {'checkup_slot_id': 3674, 'checkup_date': '05/08/2024', 'checkup_time': '11:00am'}, {'checkup_slot_id': 7324, 'checkup_date': '05/08/2024', 'checkup_time': '11:00am'}, {'checkup_slot_id': 15, 'checkup_date': '05/08/2024', 'checkup_time': '12:00pm'}, {'checkup_slot_id': 3675, 'checkup_date': '05/08/2024', 'checkup_time': '12:00pm'}, {'checkup_slot_id': 7325, 'checkup_date': '05/08/2024', 'checkup_time': '12:00pm'}, {'checkup_slot_id': 26, 'checkup_date': '05/09/2024', 'checkup_time': '01:00pm'}, {'checkup_slot_id': 3686, 'checkup_date': '05/09/2024', 'checkup_time': '01:00pm'}, {'checkup_slot_id': 7336, 'checkup_date': '05/09/2024', 'checkup_time': '01:00pm'}, {'checkup_slot_id': 27, 'checkup_date': '05/09/2024', 'checkup_time': '02:00pm'}, {'checkup_slot_id': 3687, 'checkup_date': '05/09/2024', 'checkup_time': '02:00pm'}, {'checkup_slot_id': 7337, 'checkup_date': '05/09/2024', 'checkup_time': '02:00pm'}, {'checkup_slot_id': 28, 'checkup_date': '05/09/2024', 'checkup_time': '03:00pm'}, {'checkup_slot_id': 3688, 'checkup_date': '05/09/2024', 'checkup_time': '03:00pm'}, {'checkup_slot_id': 7338, 'checkup_date': '05/09/2024', 'checkup_time': '03:00pm'}, {'checkup_slot_id': 29, 'checkup_date': '05/09/2024', 'checkup_time': '04:00pm'}, {'checkup_slot_id': 3689, 'checkup_date': '05/09/2024', 'checkup_time': '04:00pm'}, {'checkup_slot_id': 7339, 'checkup_date': '05/09/2024', 'checkup_time': '04:00pm'}, {'checkup_slot_id': 30, 'checkup_date': '05/09/2024', 'checkup_time': '05:00pm'}, {'checkup_slot_id': 3690, 'checkup_date': '05/09/2024', 'checkup_time': '05:00pm'}, {'checkup_slot_id': 7340, 'checkup_date': '05/09/2024', 'checkup_time': '05:00pm'}, {'checkup_slot_id': 21, 'checkup_date': '05/09/2024', 'checkup_time': '08:00am'}, {'checkup_slot_id': 3681, 'checkup_date': '05/09/2024', 'checkup_time': '08:00am'}, {'checkup_slot_id': 7331, 'checkup_date': '05/09/2024', 'checkup_time': '08:00am'}, {'checkup_slot_id': 22, 'checkup_date': '05/09/2024', 'checkup_time': '09:00am'}, {'checkup_slot_id': 3682, 'checkup_date': '05/09/2024', 'checkup_time': '09:00am'}, {'checkup_slot_id': 7332, 'checkup_date': '05/09/2024', 'checkup_time': '09:00am'}, {'checkup_slot_id': 23, 'checkup_date': '05/09/2024', 'checkup_time': '10:00am'}, {'checkup_slot_id': 3683, 'checkup_date': '05/09/2024', 'checkup_time': '10:00am'}, {'checkup_slot_id': 7333, 'checkup_date': '05/09/2024', 'checkup_time': '10:00am'}, {'checkup_slot_id': 24, 'checkup_date': '05/09/2024', 'checkup_time': '11:00am'}, {'checkup_slot_id': 3684, 'checkup_date': '05/09/2024', 'checkup_time': '11:00am'}, {'checkup_slot_id': 7334, 'checkup_date': '05/09/2024', 'checkup_time': '11:00am'}, {'checkup_slot_id': 25, 'checkup_date': '05/09/2024', 'checkup_time': '12:00pm'}, {'checkup_slot_id': 3685, 'checkup_date': '05/09/2024', 'checkup_time': '12:00pm'}, {'checkup_slot_id': 7335, 'checkup_date': '05/09/2024', 'checkup_time': '12:00pm'}]\"}, {'role': 'user', 'content': 'I would like to schedule a check up'}, {'role': 'assistant', 'content': 'Sure, I can help with that. We have several available slots for check-ups. Here are some options:\\n\\nFor today, May 8, 2024, we have the following slots available:\\n- 1:00 PM\\n- 2:00 PM\\n- 3:00 PM\\n- 4:00 PM\\n- 5:00 PM\\n\\nFor tomorrow, May 9, 2024, we have the following slots available:\\n- 8:00 AM\\n- 9:00 AM\\n- 10:00 AM\\n- 11:00 AM\\n- 12:00 PM\\n- 1:00 PM\\n- 2:00 PM\\n- 3:00 PM\\n- 4:00 PM\\n- 5:00 PM\\n\\nPlease let me know which slot you would prefer for your check-up.'}, {'role': 'user', 'content': 'I would like to schedule the slot for tomorrow at 10 AM'}, {'role': 'assistant', 'content': 'Great! I can help you with that. Before I schedule your appointment, could you please provide me with your full name and phone number? This is important in case the session gets disconnected.'}, {'role': 'assistant', 'content': '{\"name\": \"schedule_checkup\", \"arguments\": \"{\\\\n\\\\\"full_name\\\\\": \\\\\"Matthew Gault\\\\\",\\\\n\\\\\"phone\\\\\": \\\\\"9562661805\\\\\",\\\\n\\\\\"address\\\\\": \\\\\"\\\\\",\\\\n\\\\\"checkup_slot_id\\\\\": 23,\\\\n\\\\\"walk_in\\\\\": false,\\\\n\\\\\"appointment\\\\\": true\\\\n}\"}'}, {'role': 'function', 'tool_call_id': 'call_fqdMlqJC7d1spwH1OdfzEjgK', 'name': 'schedule_checkup', 'content': 'Invalid address or not located in Brownsville, TX.'}]\n"
     ]
    },
    {
     "name": "stdout",
     "output_type": "stream",
     "text": [
      "messages: [{'role': 'system', 'content': \"\\n    You are a helpful AI assistant named Bob created by Valley Day & Night Clinic in Brownsville, TX.\\n\\n    Today's date: May 08, 2024\\n    Current time: 05/08/2024 06:44 PM\\n    \\n    ## Task\\n    \\n    Your job is to provide an amazing customer service experience for potential customers of Day & Night Clinic and\\n    current customers.\\n    \\n    Additionally, you are renowned for converting leads into customers.\\n    \\n    As an AI assistant, you will help faciliate 'check-ups' for Valley Day & Night Clinic's services.\\n    \\n    ## Check-Up Services\\n    \\n    Standard - copay of $40 per person\\n    \\n    A $100 charge will be deducted upon not showing up to the walk-in/appointment at all, so let the customer know about this detail.\\n    \\n    ## Walk-ins\\n    \\n    Any person can choose to walk into the clinic during our work hours from 8 A.M. to 5 P.M. and pay the $40 copay.\\n    \\n    ## Prices\\n    \\n    Prices for a standard check-up are $40 as a copay per person admitted into the clinic, regardless of whether it's an \\n    appointment or a walk-in.\\n    \\n    ## Appointments\\n    \\n    If a customer expresses intent for an appointment what they mean is that they would like to schedule a check-up for the Check-Up Services.\\n        \\n    Before getting down any of their details, you should always check availability and provide it to the customer.\\n    \\n    They don't have a user interface or anything to indicate availability and are relying on you to tell them.\\n    \\n    When displaying availability do not display slot IDs as that maps to our internal database IDs and is SENSITIVE.\\n    \\n    ## Checkup Scheduling Process\\n    \\n    Incrementally ask the customer for the correct information\\n    \\n    1. Double check that the service they selected is appointment.\\n    2. Show them the available appointment slots and identify the one they are interested in.\\n    3. What their name and phone number is.\\n    4. Schedule the appointment.\\n    \\n    It is important that you break this up into smaller interactions to not overwhelm the user.\\n    \\n    Getting their name and phone number before scheduling the appointment is important in case the session gets disconnected.\\n    \"}, {'role': 'user', 'content': 'Hello'}, {'role': 'assistant', 'content': 'Hello! How can I assist you today?'}, {'role': 'assistant', 'content': '{\"name\": \"get_availability\", \"arguments\": \"{}\"}'}, {'role': 'function', 'tool_call_id': 'call_GrEK0JQqCXfgYr7nLdudFNkQ', 'name': 'get_availability', 'content': \"[{'checkup_slot_id': 16, 'checkup_date': '05/08/2024', 'checkup_time': '01:00pm'}, {'checkup_slot_id': 3676, 'checkup_date': '05/08/2024', 'checkup_time': '01:00pm'}, {'checkup_slot_id': 7326, 'checkup_date': '05/08/2024', 'checkup_time': '01:00pm'}, {'checkup_slot_id': 17, 'checkup_date': '05/08/2024', 'checkup_time': '02:00pm'}, {'checkup_slot_id': 3677, 'checkup_date': '05/08/2024', 'checkup_time': '02:00pm'}, {'checkup_slot_id': 7327, 'checkup_date': '05/08/2024', 'checkup_time': '02:00pm'}, {'checkup_slot_id': 18, 'checkup_date': '05/08/2024', 'checkup_time': '03:00pm'}, {'checkup_slot_id': 3678, 'checkup_date': '05/08/2024', 'checkup_time': '03:00pm'}, {'checkup_slot_id': 7328, 'checkup_date': '05/08/2024', 'checkup_time': '03:00pm'}, {'checkup_slot_id': 19, 'checkup_date': '05/08/2024', 'checkup_time': '04:00pm'}, {'checkup_slot_id': 3679, 'checkup_date': '05/08/2024', 'checkup_time': '04:00pm'}, {'checkup_slot_id': 7329, 'checkup_date': '05/08/2024', 'checkup_time': '04:00pm'}, {'checkup_slot_id': 20, 'checkup_date': '05/08/2024', 'checkup_time': '05:00pm'}, {'checkup_slot_id': 3680, 'checkup_date': '05/08/2024', 'checkup_time': '05:00pm'}, {'checkup_slot_id': 7330, 'checkup_date': '05/08/2024', 'checkup_time': '05:00pm'}, {'checkup_slot_id': 11, 'checkup_date': '05/08/2024', 'checkup_time': '08:00am'}, {'checkup_slot_id': 3671, 'checkup_date': '05/08/2024', 'checkup_time': '08:00am'}, {'checkup_slot_id': 7321, 'checkup_date': '05/08/2024', 'checkup_time': '08:00am'}, {'checkup_slot_id': 12, 'checkup_date': '05/08/2024', 'checkup_time': '09:00am'}, {'checkup_slot_id': 3672, 'checkup_date': '05/08/2024', 'checkup_time': '09:00am'}, {'checkup_slot_id': 7322, 'checkup_date': '05/08/2024', 'checkup_time': '09:00am'}, {'checkup_slot_id': 13, 'checkup_date': '05/08/2024', 'checkup_time': '10:00am'}, {'checkup_slot_id': 3673, 'checkup_date': '05/08/2024', 'checkup_time': '10:00am'}, {'checkup_slot_id': 7323, 'checkup_date': '05/08/2024', 'checkup_time': '10:00am'}, {'checkup_slot_id': 14, 'checkup_date': '05/08/2024', 'checkup_time': '11:00am'}, {'checkup_slot_id': 3674, 'checkup_date': '05/08/2024', 'checkup_time': '11:00am'}, {'checkup_slot_id': 7324, 'checkup_date': '05/08/2024', 'checkup_time': '11:00am'}, {'checkup_slot_id': 15, 'checkup_date': '05/08/2024', 'checkup_time': '12:00pm'}, {'checkup_slot_id': 3675, 'checkup_date': '05/08/2024', 'checkup_time': '12:00pm'}, {'checkup_slot_id': 7325, 'checkup_date': '05/08/2024', 'checkup_time': '12:00pm'}, {'checkup_slot_id': 26, 'checkup_date': '05/09/2024', 'checkup_time': '01:00pm'}, {'checkup_slot_id': 3686, 'checkup_date': '05/09/2024', 'checkup_time': '01:00pm'}, {'checkup_slot_id': 7336, 'checkup_date': '05/09/2024', 'checkup_time': '01:00pm'}, {'checkup_slot_id': 27, 'checkup_date': '05/09/2024', 'checkup_time': '02:00pm'}, {'checkup_slot_id': 3687, 'checkup_date': '05/09/2024', 'checkup_time': '02:00pm'}, {'checkup_slot_id': 7337, 'checkup_date': '05/09/2024', 'checkup_time': '02:00pm'}, {'checkup_slot_id': 28, 'checkup_date': '05/09/2024', 'checkup_time': '03:00pm'}, {'checkup_slot_id': 3688, 'checkup_date': '05/09/2024', 'checkup_time': '03:00pm'}, {'checkup_slot_id': 7338, 'checkup_date': '05/09/2024', 'checkup_time': '03:00pm'}, {'checkup_slot_id': 29, 'checkup_date': '05/09/2024', 'checkup_time': '04:00pm'}, {'checkup_slot_id': 3689, 'checkup_date': '05/09/2024', 'checkup_time': '04:00pm'}, {'checkup_slot_id': 7339, 'checkup_date': '05/09/2024', 'checkup_time': '04:00pm'}, {'checkup_slot_id': 30, 'checkup_date': '05/09/2024', 'checkup_time': '05:00pm'}, {'checkup_slot_id': 3690, 'checkup_date': '05/09/2024', 'checkup_time': '05:00pm'}, {'checkup_slot_id': 7340, 'checkup_date': '05/09/2024', 'checkup_time': '05:00pm'}, {'checkup_slot_id': 21, 'checkup_date': '05/09/2024', 'checkup_time': '08:00am'}, {'checkup_slot_id': 3681, 'checkup_date': '05/09/2024', 'checkup_time': '08:00am'}, {'checkup_slot_id': 7331, 'checkup_date': '05/09/2024', 'checkup_time': '08:00am'}, {'checkup_slot_id': 22, 'checkup_date': '05/09/2024', 'checkup_time': '09:00am'}, {'checkup_slot_id': 3682, 'checkup_date': '05/09/2024', 'checkup_time': '09:00am'}, {'checkup_slot_id': 7332, 'checkup_date': '05/09/2024', 'checkup_time': '09:00am'}, {'checkup_slot_id': 23, 'checkup_date': '05/09/2024', 'checkup_time': '10:00am'}, {'checkup_slot_id': 3683, 'checkup_date': '05/09/2024', 'checkup_time': '10:00am'}, {'checkup_slot_id': 7333, 'checkup_date': '05/09/2024', 'checkup_time': '10:00am'}, {'checkup_slot_id': 24, 'checkup_date': '05/09/2024', 'checkup_time': '11:00am'}, {'checkup_slot_id': 3684, 'checkup_date': '05/09/2024', 'checkup_time': '11:00am'}, {'checkup_slot_id': 7334, 'checkup_date': '05/09/2024', 'checkup_time': '11:00am'}, {'checkup_slot_id': 25, 'checkup_date': '05/09/2024', 'checkup_time': '12:00pm'}, {'checkup_slot_id': 3685, 'checkup_date': '05/09/2024', 'checkup_time': '12:00pm'}, {'checkup_slot_id': 7335, 'checkup_date': '05/09/2024', 'checkup_time': '12:00pm'}]\"}, {'role': 'user', 'content': 'I would like to schedule a check up'}, {'role': 'assistant', 'content': 'Sure, I can help with that. We have several available slots for check-ups. Here are some options:\\n\\nFor today, May 8, 2024, we have the following slots available:\\n- 1:00 PM\\n- 2:00 PM\\n- 3:00 PM\\n- 4:00 PM\\n- 5:00 PM\\n\\nFor tomorrow, May 9, 2024, we have the following slots available:\\n- 8:00 AM\\n- 9:00 AM\\n- 10:00 AM\\n- 11:00 AM\\n- 12:00 PM\\n- 1:00 PM\\n- 2:00 PM\\n- 3:00 PM\\n- 4:00 PM\\n- 5:00 PM\\n\\nPlease let me know which slot you would prefer for your check-up.'}, {'role': 'user', 'content': 'I would like to schedule the slot for tomorrow at 10 AM'}, {'role': 'assistant', 'content': 'Great! I can help you with that. Before I schedule your appointment, could you please provide me with your full name and phone number? This is important in case the session gets disconnected.'}, {'role': 'assistant', 'content': '{\"name\": \"schedule_checkup\", \"arguments\": \"{\\\\n\\\\\"full_name\\\\\": \\\\\"Matthew Gault\\\\\",\\\\n\\\\\"phone\\\\\": \\\\\"9562661805\\\\\",\\\\n\\\\\"address\\\\\": \\\\\"\\\\\",\\\\n\\\\\"checkup_slot_id\\\\\": 23,\\\\n\\\\\"walk_in\\\\\": false,\\\\n\\\\\"appointment\\\\\": true\\\\n}\"}'}, {'role': 'function', 'tool_call_id': 'call_fqdMlqJC7d1spwH1OdfzEjgK', 'name': 'schedule_checkup', 'content': 'Invalid address or not located in Brownsville, TX.'}, {'role': 'user', 'content': 'Matthew Gault and my phone number is 9562661805'}, {'role': 'assistant', 'content': \"I apologize for the inconvenience. Could you please provide me with your address? It's necessary to ensure that you're located in Brownsville, TX.\"}, {'role': 'user', 'content': '5524 Whisperwind '}]\n"
     ]
    },
    {
     "name": "stderr",
     "output_type": "stream",
     "text": [
      "Status code 403 from https://nominatim.openstreetmap.org/search: ERROR - 403 Client Error: Forbidden for url: https://nominatim.openstreetmap.org/search?q=5524+Whisperwind&format=jsonv2&addressdetails=1&limit=1\n"
     ]
    },
    {
     "name": "stdout",
     "output_type": "stream",
     "text": [
      "<[ERROR - 403 Client Error: Forbidden for url: https://nominatim.openstreetmap.org/search?q=5524+Whisperwind&format=jsonv2&addressdetails=1&limit=1] Osm - Geocode [empty]>\n",
      "None\n",
      "messages: [{'role': 'system', 'content': \"\\n    You are a helpful AI assistant named Bob created by Valley Day & Night Clinic in Brownsville, TX.\\n\\n    Today's date: May 08, 2024\\n    Current time: 05/08/2024 06:44 PM\\n    \\n    ## Task\\n    \\n    Your job is to provide an amazing customer service experience for potential customers of Day & Night Clinic and\\n    current customers.\\n    \\n    Additionally, you are renowned for converting leads into customers.\\n    \\n    As an AI assistant, you will help faciliate 'check-ups' for Valley Day & Night Clinic's services.\\n    \\n    ## Check-Up Services\\n    \\n    Standard - copay of $40 per person\\n    \\n    A $100 charge will be deducted upon not showing up to the walk-in/appointment at all, so let the customer know about this detail.\\n    \\n    ## Walk-ins\\n    \\n    Any person can choose to walk into the clinic during our work hours from 8 A.M. to 5 P.M. and pay the $40 copay.\\n    \\n    ## Prices\\n    \\n    Prices for a standard check-up are $40 as a copay per person admitted into the clinic, regardless of whether it's an \\n    appointment or a walk-in.\\n    \\n    ## Appointments\\n    \\n    If a customer expresses intent for an appointment what they mean is that they would like to schedule a check-up for the Check-Up Services.\\n        \\n    Before getting down any of their details, you should always check availability and provide it to the customer.\\n    \\n    They don't have a user interface or anything to indicate availability and are relying on you to tell them.\\n    \\n    When displaying availability do not display slot IDs as that maps to our internal database IDs and is SENSITIVE.\\n    \\n    ## Checkup Scheduling Process\\n    \\n    Incrementally ask the customer for the correct information\\n    \\n    1. Double check that the service they selected is appointment.\\n    2. Show them the available appointment slots and identify the one they are interested in.\\n    3. What their name and phone number is.\\n    4. Schedule the appointment.\\n    \\n    It is important that you break this up into smaller interactions to not overwhelm the user.\\n    \\n    Getting their name and phone number before scheduling the appointment is important in case the session gets disconnected.\\n    \"}, {'role': 'user', 'content': 'Hello'}, {'role': 'assistant', 'content': 'Hello! How can I assist you today?'}, {'role': 'assistant', 'content': '{\"name\": \"get_availability\", \"arguments\": \"{}\"}'}, {'role': 'function', 'tool_call_id': 'call_GrEK0JQqCXfgYr7nLdudFNkQ', 'name': 'get_availability', 'content': \"[{'checkup_slot_id': 16, 'checkup_date': '05/08/2024', 'checkup_time': '01:00pm'}, {'checkup_slot_id': 3676, 'checkup_date': '05/08/2024', 'checkup_time': '01:00pm'}, {'checkup_slot_id': 7326, 'checkup_date': '05/08/2024', 'checkup_time': '01:00pm'}, {'checkup_slot_id': 17, 'checkup_date': '05/08/2024', 'checkup_time': '02:00pm'}, {'checkup_slot_id': 3677, 'checkup_date': '05/08/2024', 'checkup_time': '02:00pm'}, {'checkup_slot_id': 7327, 'checkup_date': '05/08/2024', 'checkup_time': '02:00pm'}, {'checkup_slot_id': 18, 'checkup_date': '05/08/2024', 'checkup_time': '03:00pm'}, {'checkup_slot_id': 3678, 'checkup_date': '05/08/2024', 'checkup_time': '03:00pm'}, {'checkup_slot_id': 7328, 'checkup_date': '05/08/2024', 'checkup_time': '03:00pm'}, {'checkup_slot_id': 19, 'checkup_date': '05/08/2024', 'checkup_time': '04:00pm'}, {'checkup_slot_id': 3679, 'checkup_date': '05/08/2024', 'checkup_time': '04:00pm'}, {'checkup_slot_id': 7329, 'checkup_date': '05/08/2024', 'checkup_time': '04:00pm'}, {'checkup_slot_id': 20, 'checkup_date': '05/08/2024', 'checkup_time': '05:00pm'}, {'checkup_slot_id': 3680, 'checkup_date': '05/08/2024', 'checkup_time': '05:00pm'}, {'checkup_slot_id': 7330, 'checkup_date': '05/08/2024', 'checkup_time': '05:00pm'}, {'checkup_slot_id': 11, 'checkup_date': '05/08/2024', 'checkup_time': '08:00am'}, {'checkup_slot_id': 3671, 'checkup_date': '05/08/2024', 'checkup_time': '08:00am'}, {'checkup_slot_id': 7321, 'checkup_date': '05/08/2024', 'checkup_time': '08:00am'}, {'checkup_slot_id': 12, 'checkup_date': '05/08/2024', 'checkup_time': '09:00am'}, {'checkup_slot_id': 3672, 'checkup_date': '05/08/2024', 'checkup_time': '09:00am'}, {'checkup_slot_id': 7322, 'checkup_date': '05/08/2024', 'checkup_time': '09:00am'}, {'checkup_slot_id': 13, 'checkup_date': '05/08/2024', 'checkup_time': '10:00am'}, {'checkup_slot_id': 3673, 'checkup_date': '05/08/2024', 'checkup_time': '10:00am'}, {'checkup_slot_id': 7323, 'checkup_date': '05/08/2024', 'checkup_time': '10:00am'}, {'checkup_slot_id': 14, 'checkup_date': '05/08/2024', 'checkup_time': '11:00am'}, {'checkup_slot_id': 3674, 'checkup_date': '05/08/2024', 'checkup_time': '11:00am'}, {'checkup_slot_id': 7324, 'checkup_date': '05/08/2024', 'checkup_time': '11:00am'}, {'checkup_slot_id': 15, 'checkup_date': '05/08/2024', 'checkup_time': '12:00pm'}, {'checkup_slot_id': 3675, 'checkup_date': '05/08/2024', 'checkup_time': '12:00pm'}, {'checkup_slot_id': 7325, 'checkup_date': '05/08/2024', 'checkup_time': '12:00pm'}, {'checkup_slot_id': 26, 'checkup_date': '05/09/2024', 'checkup_time': '01:00pm'}, {'checkup_slot_id': 3686, 'checkup_date': '05/09/2024', 'checkup_time': '01:00pm'}, {'checkup_slot_id': 7336, 'checkup_date': '05/09/2024', 'checkup_time': '01:00pm'}, {'checkup_slot_id': 27, 'checkup_date': '05/09/2024', 'checkup_time': '02:00pm'}, {'checkup_slot_id': 3687, 'checkup_date': '05/09/2024', 'checkup_time': '02:00pm'}, {'checkup_slot_id': 7337, 'checkup_date': '05/09/2024', 'checkup_time': '02:00pm'}, {'checkup_slot_id': 28, 'checkup_date': '05/09/2024', 'checkup_time': '03:00pm'}, {'checkup_slot_id': 3688, 'checkup_date': '05/09/2024', 'checkup_time': '03:00pm'}, {'checkup_slot_id': 7338, 'checkup_date': '05/09/2024', 'checkup_time': '03:00pm'}, {'checkup_slot_id': 29, 'checkup_date': '05/09/2024', 'checkup_time': '04:00pm'}, {'checkup_slot_id': 3689, 'checkup_date': '05/09/2024', 'checkup_time': '04:00pm'}, {'checkup_slot_id': 7339, 'checkup_date': '05/09/2024', 'checkup_time': '04:00pm'}, {'checkup_slot_id': 30, 'checkup_date': '05/09/2024', 'checkup_time': '05:00pm'}, {'checkup_slot_id': 3690, 'checkup_date': '05/09/2024', 'checkup_time': '05:00pm'}, {'checkup_slot_id': 7340, 'checkup_date': '05/09/2024', 'checkup_time': '05:00pm'}, {'checkup_slot_id': 21, 'checkup_date': '05/09/2024', 'checkup_time': '08:00am'}, {'checkup_slot_id': 3681, 'checkup_date': '05/09/2024', 'checkup_time': '08:00am'}, {'checkup_slot_id': 7331, 'checkup_date': '05/09/2024', 'checkup_time': '08:00am'}, {'checkup_slot_id': 22, 'checkup_date': '05/09/2024', 'checkup_time': '09:00am'}, {'checkup_slot_id': 3682, 'checkup_date': '05/09/2024', 'checkup_time': '09:00am'}, {'checkup_slot_id': 7332, 'checkup_date': '05/09/2024', 'checkup_time': '09:00am'}, {'checkup_slot_id': 23, 'checkup_date': '05/09/2024', 'checkup_time': '10:00am'}, {'checkup_slot_id': 3683, 'checkup_date': '05/09/2024', 'checkup_time': '10:00am'}, {'checkup_slot_id': 7333, 'checkup_date': '05/09/2024', 'checkup_time': '10:00am'}, {'checkup_slot_id': 24, 'checkup_date': '05/09/2024', 'checkup_time': '11:00am'}, {'checkup_slot_id': 3684, 'checkup_date': '05/09/2024', 'checkup_time': '11:00am'}, {'checkup_slot_id': 7334, 'checkup_date': '05/09/2024', 'checkup_time': '11:00am'}, {'checkup_slot_id': 25, 'checkup_date': '05/09/2024', 'checkup_time': '12:00pm'}, {'checkup_slot_id': 3685, 'checkup_date': '05/09/2024', 'checkup_time': '12:00pm'}, {'checkup_slot_id': 7335, 'checkup_date': '05/09/2024', 'checkup_time': '12:00pm'}]\"}, {'role': 'user', 'content': 'I would like to schedule a check up'}, {'role': 'assistant', 'content': 'Sure, I can help with that. We have several available slots for check-ups. Here are some options:\\n\\nFor today, May 8, 2024, we have the following slots available:\\n- 1:00 PM\\n- 2:00 PM\\n- 3:00 PM\\n- 4:00 PM\\n- 5:00 PM\\n\\nFor tomorrow, May 9, 2024, we have the following slots available:\\n- 8:00 AM\\n- 9:00 AM\\n- 10:00 AM\\n- 11:00 AM\\n- 12:00 PM\\n- 1:00 PM\\n- 2:00 PM\\n- 3:00 PM\\n- 4:00 PM\\n- 5:00 PM\\n\\nPlease let me know which slot you would prefer for your check-up.'}, {'role': 'user', 'content': 'I would like to schedule the slot for tomorrow at 10 AM'}, {'role': 'assistant', 'content': 'Great! I can help you with that. Before I schedule your appointment, could you please provide me with your full name and phone number? This is important in case the session gets disconnected.'}, {'role': 'assistant', 'content': '{\"name\": \"schedule_checkup\", \"arguments\": \"{\\\\n\\\\\"full_name\\\\\": \\\\\"Matthew Gault\\\\\",\\\\n\\\\\"phone\\\\\": \\\\\"9562661805\\\\\",\\\\n\\\\\"address\\\\\": \\\\\"\\\\\",\\\\n\\\\\"checkup_slot_id\\\\\": 23,\\\\n\\\\\"walk_in\\\\\": false,\\\\n\\\\\"appointment\\\\\": true\\\\n}\"}'}, {'role': 'function', 'tool_call_id': 'call_fqdMlqJC7d1spwH1OdfzEjgK', 'name': 'schedule_checkup', 'content': 'Invalid address or not located in Brownsville, TX.'}, {'role': 'user', 'content': 'Matthew Gault and my phone number is 9562661805'}, {'role': 'assistant', 'content': \"I apologize for the inconvenience. Could you please provide me with your address? It's necessary to ensure that you're located in Brownsville, TX.\"}, {'role': 'assistant', 'content': '{\"name\": \"schedule_checkup\", \"arguments\": \"{\\\\n\\\\\"full_name\\\\\": \\\\\"Matthew Gault\\\\\",\\\\n\\\\\"phone\\\\\": \\\\\"9562661805\\\\\",\\\\n\\\\\"address\\\\\": \\\\\"5524 Whisperwind\\\\\",\\\\n\\\\\"checkup_slot_id\\\\\": 23,\\\\n\\\\\"walk_in\\\\\": false,\\\\n\\\\\"appointment\\\\\": true\\\\n}\"}'}, {'role': 'function', 'tool_call_id': 'call_Ogr3SqHQ2B1GWZMytm1L71rC', 'name': 'schedule_checkup', 'content': 'Invalid address or not located in Brownsville, TX.'}]\n"
     ]
    },
    {
     "name": "stdout",
     "output_type": "stream",
     "text": [
      "messages: [{'role': 'system', 'content': \"\\n    You are a helpful AI assistant named Bob created by Valley Day & Night Clinic in Brownsville, TX.\\n\\n    Today's date: May 08, 2024\\n    Current time: 05/08/2024 06:45 PM\\n    \\n    ## Task\\n    \\n    Your job is to provide an amazing customer service experience for potential customers of Day & Night Clinic and\\n    current customers.\\n    \\n    Additionally, you are renowned for converting leads into customers.\\n    \\n    As an AI assistant, you will help faciliate 'check-ups' for Valley Day & Night Clinic's services.\\n    \\n    ## Check-Up Services\\n    \\n    Standard - copay of $40 per person\\n    \\n    A $100 charge will be deducted upon not showing up to the walk-in/appointment at all, so let the customer know about this detail.\\n    \\n    ## Walk-ins\\n    \\n    Any person can choose to walk into the clinic during our work hours from 8 A.M. to 5 P.M. and pay the $40 copay.\\n    \\n    ## Prices\\n    \\n    Prices for a standard check-up are $40 as a copay per person admitted into the clinic, regardless of whether it's an \\n    appointment or a walk-in.\\n    \\n    ## Appointments\\n    \\n    If a customer expresses intent for an appointment what they mean is that they would like to schedule a check-up for the Check-Up Services.\\n        \\n    Before getting down any of their details, you should always check availability and provide it to the customer.\\n    \\n    They don't have a user interface or anything to indicate availability and are relying on you to tell them.\\n    \\n    When displaying availability do not display slot IDs as that maps to our internal database IDs and is SENSITIVE.\\n    \\n    ## Checkup Scheduling Process\\n    \\n    Incrementally ask the customer for the correct information\\n    \\n    1. Double check that the service they selected is appointment.\\n    2. Show them the available appointment slots and identify the one they are interested in.\\n    3. What their name and phone number is.\\n    4. Schedule the appointment.\\n    \\n    It is important that you break this up into smaller interactions to not overwhelm the user.\\n    \\n    Getting their name and phone number before scheduling the appointment is important in case the session gets disconnected.\\n    \"}, {'role': 'user', 'content': 'Hello'}, {'role': 'assistant', 'content': 'Hello! How can I assist you today?'}, {'role': 'assistant', 'content': '{\"name\": \"get_availability\", \"arguments\": \"{}\"}'}, {'role': 'function', 'tool_call_id': 'call_GrEK0JQqCXfgYr7nLdudFNkQ', 'name': 'get_availability', 'content': \"[{'checkup_slot_id': 16, 'checkup_date': '05/08/2024', 'checkup_time': '01:00pm'}, {'checkup_slot_id': 3676, 'checkup_date': '05/08/2024', 'checkup_time': '01:00pm'}, {'checkup_slot_id': 7326, 'checkup_date': '05/08/2024', 'checkup_time': '01:00pm'}, {'checkup_slot_id': 17, 'checkup_date': '05/08/2024', 'checkup_time': '02:00pm'}, {'checkup_slot_id': 3677, 'checkup_date': '05/08/2024', 'checkup_time': '02:00pm'}, {'checkup_slot_id': 7327, 'checkup_date': '05/08/2024', 'checkup_time': '02:00pm'}, {'checkup_slot_id': 18, 'checkup_date': '05/08/2024', 'checkup_time': '03:00pm'}, {'checkup_slot_id': 3678, 'checkup_date': '05/08/2024', 'checkup_time': '03:00pm'}, {'checkup_slot_id': 7328, 'checkup_date': '05/08/2024', 'checkup_time': '03:00pm'}, {'checkup_slot_id': 19, 'checkup_date': '05/08/2024', 'checkup_time': '04:00pm'}, {'checkup_slot_id': 3679, 'checkup_date': '05/08/2024', 'checkup_time': '04:00pm'}, {'checkup_slot_id': 7329, 'checkup_date': '05/08/2024', 'checkup_time': '04:00pm'}, {'checkup_slot_id': 20, 'checkup_date': '05/08/2024', 'checkup_time': '05:00pm'}, {'checkup_slot_id': 3680, 'checkup_date': '05/08/2024', 'checkup_time': '05:00pm'}, {'checkup_slot_id': 7330, 'checkup_date': '05/08/2024', 'checkup_time': '05:00pm'}, {'checkup_slot_id': 11, 'checkup_date': '05/08/2024', 'checkup_time': '08:00am'}, {'checkup_slot_id': 3671, 'checkup_date': '05/08/2024', 'checkup_time': '08:00am'}, {'checkup_slot_id': 7321, 'checkup_date': '05/08/2024', 'checkup_time': '08:00am'}, {'checkup_slot_id': 12, 'checkup_date': '05/08/2024', 'checkup_time': '09:00am'}, {'checkup_slot_id': 3672, 'checkup_date': '05/08/2024', 'checkup_time': '09:00am'}, {'checkup_slot_id': 7322, 'checkup_date': '05/08/2024', 'checkup_time': '09:00am'}, {'checkup_slot_id': 13, 'checkup_date': '05/08/2024', 'checkup_time': '10:00am'}, {'checkup_slot_id': 3673, 'checkup_date': '05/08/2024', 'checkup_time': '10:00am'}, {'checkup_slot_id': 7323, 'checkup_date': '05/08/2024', 'checkup_time': '10:00am'}, {'checkup_slot_id': 14, 'checkup_date': '05/08/2024', 'checkup_time': '11:00am'}, {'checkup_slot_id': 3674, 'checkup_date': '05/08/2024', 'checkup_time': '11:00am'}, {'checkup_slot_id': 7324, 'checkup_date': '05/08/2024', 'checkup_time': '11:00am'}, {'checkup_slot_id': 15, 'checkup_date': '05/08/2024', 'checkup_time': '12:00pm'}, {'checkup_slot_id': 3675, 'checkup_date': '05/08/2024', 'checkup_time': '12:00pm'}, {'checkup_slot_id': 7325, 'checkup_date': '05/08/2024', 'checkup_time': '12:00pm'}, {'checkup_slot_id': 26, 'checkup_date': '05/09/2024', 'checkup_time': '01:00pm'}, {'checkup_slot_id': 3686, 'checkup_date': '05/09/2024', 'checkup_time': '01:00pm'}, {'checkup_slot_id': 7336, 'checkup_date': '05/09/2024', 'checkup_time': '01:00pm'}, {'checkup_slot_id': 27, 'checkup_date': '05/09/2024', 'checkup_time': '02:00pm'}, {'checkup_slot_id': 3687, 'checkup_date': '05/09/2024', 'checkup_time': '02:00pm'}, {'checkup_slot_id': 7337, 'checkup_date': '05/09/2024', 'checkup_time': '02:00pm'}, {'checkup_slot_id': 28, 'checkup_date': '05/09/2024', 'checkup_time': '03:00pm'}, {'checkup_slot_id': 3688, 'checkup_date': '05/09/2024', 'checkup_time': '03:00pm'}, {'checkup_slot_id': 7338, 'checkup_date': '05/09/2024', 'checkup_time': '03:00pm'}, {'checkup_slot_id': 29, 'checkup_date': '05/09/2024', 'checkup_time': '04:00pm'}, {'checkup_slot_id': 3689, 'checkup_date': '05/09/2024', 'checkup_time': '04:00pm'}, {'checkup_slot_id': 7339, 'checkup_date': '05/09/2024', 'checkup_time': '04:00pm'}, {'checkup_slot_id': 30, 'checkup_date': '05/09/2024', 'checkup_time': '05:00pm'}, {'checkup_slot_id': 3690, 'checkup_date': '05/09/2024', 'checkup_time': '05:00pm'}, {'checkup_slot_id': 7340, 'checkup_date': '05/09/2024', 'checkup_time': '05:00pm'}, {'checkup_slot_id': 21, 'checkup_date': '05/09/2024', 'checkup_time': '08:00am'}, {'checkup_slot_id': 3681, 'checkup_date': '05/09/2024', 'checkup_time': '08:00am'}, {'checkup_slot_id': 7331, 'checkup_date': '05/09/2024', 'checkup_time': '08:00am'}, {'checkup_slot_id': 22, 'checkup_date': '05/09/2024', 'checkup_time': '09:00am'}, {'checkup_slot_id': 3682, 'checkup_date': '05/09/2024', 'checkup_time': '09:00am'}, {'checkup_slot_id': 7332, 'checkup_date': '05/09/2024', 'checkup_time': '09:00am'}, {'checkup_slot_id': 23, 'checkup_date': '05/09/2024', 'checkup_time': '10:00am'}, {'checkup_slot_id': 3683, 'checkup_date': '05/09/2024', 'checkup_time': '10:00am'}, {'checkup_slot_id': 7333, 'checkup_date': '05/09/2024', 'checkup_time': '10:00am'}, {'checkup_slot_id': 24, 'checkup_date': '05/09/2024', 'checkup_time': '11:00am'}, {'checkup_slot_id': 3684, 'checkup_date': '05/09/2024', 'checkup_time': '11:00am'}, {'checkup_slot_id': 7334, 'checkup_date': '05/09/2024', 'checkup_time': '11:00am'}, {'checkup_slot_id': 25, 'checkup_date': '05/09/2024', 'checkup_time': '12:00pm'}, {'checkup_slot_id': 3685, 'checkup_date': '05/09/2024', 'checkup_time': '12:00pm'}, {'checkup_slot_id': 7335, 'checkup_date': '05/09/2024', 'checkup_time': '12:00pm'}]\"}, {'role': 'user', 'content': 'I would like to schedule a check up'}, {'role': 'assistant', 'content': 'Sure, I can help with that. We have several available slots for check-ups. Here are some options:\\n\\nFor today, May 8, 2024, we have the following slots available:\\n- 1:00 PM\\n- 2:00 PM\\n- 3:00 PM\\n- 4:00 PM\\n- 5:00 PM\\n\\nFor tomorrow, May 9, 2024, we have the following slots available:\\n- 8:00 AM\\n- 9:00 AM\\n- 10:00 AM\\n- 11:00 AM\\n- 12:00 PM\\n- 1:00 PM\\n- 2:00 PM\\n- 3:00 PM\\n- 4:00 PM\\n- 5:00 PM\\n\\nPlease let me know which slot you would prefer for your check-up.'}, {'role': 'user', 'content': 'I would like to schedule the slot for tomorrow at 10 AM'}, {'role': 'assistant', 'content': 'Great! I can help you with that. Before I schedule your appointment, could you please provide me with your full name and phone number? This is important in case the session gets disconnected.'}, {'role': 'assistant', 'content': '{\"name\": \"schedule_checkup\", \"arguments\": \"{\\\\n\\\\\"full_name\\\\\": \\\\\"Matthew Gault\\\\\",\\\\n\\\\\"phone\\\\\": \\\\\"9562661805\\\\\",\\\\n\\\\\"address\\\\\": \\\\\"\\\\\",\\\\n\\\\\"checkup_slot_id\\\\\": 23,\\\\n\\\\\"walk_in\\\\\": false,\\\\n\\\\\"appointment\\\\\": true\\\\n}\"}'}, {'role': 'function', 'tool_call_id': 'call_fqdMlqJC7d1spwH1OdfzEjgK', 'name': 'schedule_checkup', 'content': 'Invalid address or not located in Brownsville, TX.'}, {'role': 'user', 'content': 'Matthew Gault and my phone number is 9562661805'}, {'role': 'assistant', 'content': \"I apologize for the inconvenience. Could you please provide me with your address? It's necessary to ensure that you're located in Brownsville, TX.\"}, {'role': 'assistant', 'content': '{\"name\": \"schedule_checkup\", \"arguments\": \"{\\\\n\\\\\"full_name\\\\\": \\\\\"Matthew Gault\\\\\",\\\\n\\\\\"phone\\\\\": \\\\\"9562661805\\\\\",\\\\n\\\\\"address\\\\\": \\\\\"5524 Whisperwind\\\\\",\\\\n\\\\\"checkup_slot_id\\\\\": 23,\\\\n\\\\\"walk_in\\\\\": false,\\\\n\\\\\"appointment\\\\\": true\\\\n}\"}'}, {'role': 'function', 'tool_call_id': 'call_Ogr3SqHQ2B1GWZMytm1L71rC', 'name': 'schedule_checkup', 'content': 'Invalid address or not located in Brownsville, TX.'}, {'role': 'user', 'content': '5524 Whisperwind '}, {'role': 'assistant', 'content': \"I'm sorry for the inconvenience, but it seems there's an issue with the address provided. Could you please confirm your address? We need to ensure that you're located in Brownsville, TX.\"}, {'role': 'user', 'content': '5524 Whisperwind Way Brownsville Texas'}]\n"
     ]
    },
    {
     "name": "stderr",
     "output_type": "stream",
     "text": [
      "Status code 403 from https://nominatim.openstreetmap.org/search: ERROR - 403 Client Error: Forbidden for url: https://nominatim.openstreetmap.org/search?q=5524+Whisperwind+Way+Brownsville+Texas&format=jsonv2&addressdetails=1&limit=1\n"
     ]
    },
    {
     "name": "stdout",
     "output_type": "stream",
     "text": [
      "<[ERROR - 403 Client Error: Forbidden for url: https://nominatim.openstreetmap.org/search?q=5524+Whisperwind+Way+Brownsville+Texas&format=jsonv2&addressdetails=1&limit=1] Osm - Geocode [empty]>\n",
      "None\n",
      "messages: [{'role': 'system', 'content': \"\\n    You are a helpful AI assistant named Bob created by Valley Day & Night Clinic in Brownsville, TX.\\n\\n    Today's date: May 08, 2024\\n    Current time: 05/08/2024 06:45 PM\\n    \\n    ## Task\\n    \\n    Your job is to provide an amazing customer service experience for potential customers of Day & Night Clinic and\\n    current customers.\\n    \\n    Additionally, you are renowned for converting leads into customers.\\n    \\n    As an AI assistant, you will help faciliate 'check-ups' for Valley Day & Night Clinic's services.\\n    \\n    ## Check-Up Services\\n    \\n    Standard - copay of $40 per person\\n    \\n    A $100 charge will be deducted upon not showing up to the walk-in/appointment at all, so let the customer know about this detail.\\n    \\n    ## Walk-ins\\n    \\n    Any person can choose to walk into the clinic during our work hours from 8 A.M. to 5 P.M. and pay the $40 copay.\\n    \\n    ## Prices\\n    \\n    Prices for a standard check-up are $40 as a copay per person admitted into the clinic, regardless of whether it's an \\n    appointment or a walk-in.\\n    \\n    ## Appointments\\n    \\n    If a customer expresses intent for an appointment what they mean is that they would like to schedule a check-up for the Check-Up Services.\\n        \\n    Before getting down any of their details, you should always check availability and provide it to the customer.\\n    \\n    They don't have a user interface or anything to indicate availability and are relying on you to tell them.\\n    \\n    When displaying availability do not display slot IDs as that maps to our internal database IDs and is SENSITIVE.\\n    \\n    ## Checkup Scheduling Process\\n    \\n    Incrementally ask the customer for the correct information\\n    \\n    1. Double check that the service they selected is appointment.\\n    2. Show them the available appointment slots and identify the one they are interested in.\\n    3. What their name and phone number is.\\n    4. Schedule the appointment.\\n    \\n    It is important that you break this up into smaller interactions to not overwhelm the user.\\n    \\n    Getting their name and phone number before scheduling the appointment is important in case the session gets disconnected.\\n    \"}, {'role': 'user', 'content': 'Hello'}, {'role': 'assistant', 'content': 'Hello! How can I assist you today?'}, {'role': 'assistant', 'content': '{\"name\": \"get_availability\", \"arguments\": \"{}\"}'}, {'role': 'function', 'tool_call_id': 'call_GrEK0JQqCXfgYr7nLdudFNkQ', 'name': 'get_availability', 'content': \"[{'checkup_slot_id': 16, 'checkup_date': '05/08/2024', 'checkup_time': '01:00pm'}, {'checkup_slot_id': 3676, 'checkup_date': '05/08/2024', 'checkup_time': '01:00pm'}, {'checkup_slot_id': 7326, 'checkup_date': '05/08/2024', 'checkup_time': '01:00pm'}, {'checkup_slot_id': 17, 'checkup_date': '05/08/2024', 'checkup_time': '02:00pm'}, {'checkup_slot_id': 3677, 'checkup_date': '05/08/2024', 'checkup_time': '02:00pm'}, {'checkup_slot_id': 7327, 'checkup_date': '05/08/2024', 'checkup_time': '02:00pm'}, {'checkup_slot_id': 18, 'checkup_date': '05/08/2024', 'checkup_time': '03:00pm'}, {'checkup_slot_id': 3678, 'checkup_date': '05/08/2024', 'checkup_time': '03:00pm'}, {'checkup_slot_id': 7328, 'checkup_date': '05/08/2024', 'checkup_time': '03:00pm'}, {'checkup_slot_id': 19, 'checkup_date': '05/08/2024', 'checkup_time': '04:00pm'}, {'checkup_slot_id': 3679, 'checkup_date': '05/08/2024', 'checkup_time': '04:00pm'}, {'checkup_slot_id': 7329, 'checkup_date': '05/08/2024', 'checkup_time': '04:00pm'}, {'checkup_slot_id': 20, 'checkup_date': '05/08/2024', 'checkup_time': '05:00pm'}, {'checkup_slot_id': 3680, 'checkup_date': '05/08/2024', 'checkup_time': '05:00pm'}, {'checkup_slot_id': 7330, 'checkup_date': '05/08/2024', 'checkup_time': '05:00pm'}, {'checkup_slot_id': 11, 'checkup_date': '05/08/2024', 'checkup_time': '08:00am'}, {'checkup_slot_id': 3671, 'checkup_date': '05/08/2024', 'checkup_time': '08:00am'}, {'checkup_slot_id': 7321, 'checkup_date': '05/08/2024', 'checkup_time': '08:00am'}, {'checkup_slot_id': 12, 'checkup_date': '05/08/2024', 'checkup_time': '09:00am'}, {'checkup_slot_id': 3672, 'checkup_date': '05/08/2024', 'checkup_time': '09:00am'}, {'checkup_slot_id': 7322, 'checkup_date': '05/08/2024', 'checkup_time': '09:00am'}, {'checkup_slot_id': 13, 'checkup_date': '05/08/2024', 'checkup_time': '10:00am'}, {'checkup_slot_id': 3673, 'checkup_date': '05/08/2024', 'checkup_time': '10:00am'}, {'checkup_slot_id': 7323, 'checkup_date': '05/08/2024', 'checkup_time': '10:00am'}, {'checkup_slot_id': 14, 'checkup_date': '05/08/2024', 'checkup_time': '11:00am'}, {'checkup_slot_id': 3674, 'checkup_date': '05/08/2024', 'checkup_time': '11:00am'}, {'checkup_slot_id': 7324, 'checkup_date': '05/08/2024', 'checkup_time': '11:00am'}, {'checkup_slot_id': 15, 'checkup_date': '05/08/2024', 'checkup_time': '12:00pm'}, {'checkup_slot_id': 3675, 'checkup_date': '05/08/2024', 'checkup_time': '12:00pm'}, {'checkup_slot_id': 7325, 'checkup_date': '05/08/2024', 'checkup_time': '12:00pm'}, {'checkup_slot_id': 26, 'checkup_date': '05/09/2024', 'checkup_time': '01:00pm'}, {'checkup_slot_id': 3686, 'checkup_date': '05/09/2024', 'checkup_time': '01:00pm'}, {'checkup_slot_id': 7336, 'checkup_date': '05/09/2024', 'checkup_time': '01:00pm'}, {'checkup_slot_id': 27, 'checkup_date': '05/09/2024', 'checkup_time': '02:00pm'}, {'checkup_slot_id': 3687, 'checkup_date': '05/09/2024', 'checkup_time': '02:00pm'}, {'checkup_slot_id': 7337, 'checkup_date': '05/09/2024', 'checkup_time': '02:00pm'}, {'checkup_slot_id': 28, 'checkup_date': '05/09/2024', 'checkup_time': '03:00pm'}, {'checkup_slot_id': 3688, 'checkup_date': '05/09/2024', 'checkup_time': '03:00pm'}, {'checkup_slot_id': 7338, 'checkup_date': '05/09/2024', 'checkup_time': '03:00pm'}, {'checkup_slot_id': 29, 'checkup_date': '05/09/2024', 'checkup_time': '04:00pm'}, {'checkup_slot_id': 3689, 'checkup_date': '05/09/2024', 'checkup_time': '04:00pm'}, {'checkup_slot_id': 7339, 'checkup_date': '05/09/2024', 'checkup_time': '04:00pm'}, {'checkup_slot_id': 30, 'checkup_date': '05/09/2024', 'checkup_time': '05:00pm'}, {'checkup_slot_id': 3690, 'checkup_date': '05/09/2024', 'checkup_time': '05:00pm'}, {'checkup_slot_id': 7340, 'checkup_date': '05/09/2024', 'checkup_time': '05:00pm'}, {'checkup_slot_id': 21, 'checkup_date': '05/09/2024', 'checkup_time': '08:00am'}, {'checkup_slot_id': 3681, 'checkup_date': '05/09/2024', 'checkup_time': '08:00am'}, {'checkup_slot_id': 7331, 'checkup_date': '05/09/2024', 'checkup_time': '08:00am'}, {'checkup_slot_id': 22, 'checkup_date': '05/09/2024', 'checkup_time': '09:00am'}, {'checkup_slot_id': 3682, 'checkup_date': '05/09/2024', 'checkup_time': '09:00am'}, {'checkup_slot_id': 7332, 'checkup_date': '05/09/2024', 'checkup_time': '09:00am'}, {'checkup_slot_id': 23, 'checkup_date': '05/09/2024', 'checkup_time': '10:00am'}, {'checkup_slot_id': 3683, 'checkup_date': '05/09/2024', 'checkup_time': '10:00am'}, {'checkup_slot_id': 7333, 'checkup_date': '05/09/2024', 'checkup_time': '10:00am'}, {'checkup_slot_id': 24, 'checkup_date': '05/09/2024', 'checkup_time': '11:00am'}, {'checkup_slot_id': 3684, 'checkup_date': '05/09/2024', 'checkup_time': '11:00am'}, {'checkup_slot_id': 7334, 'checkup_date': '05/09/2024', 'checkup_time': '11:00am'}, {'checkup_slot_id': 25, 'checkup_date': '05/09/2024', 'checkup_time': '12:00pm'}, {'checkup_slot_id': 3685, 'checkup_date': '05/09/2024', 'checkup_time': '12:00pm'}, {'checkup_slot_id': 7335, 'checkup_date': '05/09/2024', 'checkup_time': '12:00pm'}]\"}, {'role': 'user', 'content': 'I would like to schedule a check up'}, {'role': 'assistant', 'content': 'Sure, I can help with that. We have several available slots for check-ups. Here are some options:\\n\\nFor today, May 8, 2024, we have the following slots available:\\n- 1:00 PM\\n- 2:00 PM\\n- 3:00 PM\\n- 4:00 PM\\n- 5:00 PM\\n\\nFor tomorrow, May 9, 2024, we have the following slots available:\\n- 8:00 AM\\n- 9:00 AM\\n- 10:00 AM\\n- 11:00 AM\\n- 12:00 PM\\n- 1:00 PM\\n- 2:00 PM\\n- 3:00 PM\\n- 4:00 PM\\n- 5:00 PM\\n\\nPlease let me know which slot you would prefer for your check-up.'}, {'role': 'user', 'content': 'I would like to schedule the slot for tomorrow at 10 AM'}, {'role': 'assistant', 'content': 'Great! I can help you with that. Before I schedule your appointment, could you please provide me with your full name and phone number? This is important in case the session gets disconnected.'}, {'role': 'assistant', 'content': '{\"name\": \"schedule_checkup\", \"arguments\": \"{\\\\n\\\\\"full_name\\\\\": \\\\\"Matthew Gault\\\\\",\\\\n\\\\\"phone\\\\\": \\\\\"9562661805\\\\\",\\\\n\\\\\"address\\\\\": \\\\\"\\\\\",\\\\n\\\\\"checkup_slot_id\\\\\": 23,\\\\n\\\\\"walk_in\\\\\": false,\\\\n\\\\\"appointment\\\\\": true\\\\n}\"}'}, {'role': 'function', 'tool_call_id': 'call_fqdMlqJC7d1spwH1OdfzEjgK', 'name': 'schedule_checkup', 'content': 'Invalid address or not located in Brownsville, TX.'}, {'role': 'user', 'content': 'Matthew Gault and my phone number is 9562661805'}, {'role': 'assistant', 'content': \"I apologize for the inconvenience. Could you please provide me with your address? It's necessary to ensure that you're located in Brownsville, TX.\"}, {'role': 'assistant', 'content': '{\"name\": \"schedule_checkup\", \"arguments\": \"{\\\\n\\\\\"full_name\\\\\": \\\\\"Matthew Gault\\\\\",\\\\n\\\\\"phone\\\\\": \\\\\"9562661805\\\\\",\\\\n\\\\\"address\\\\\": \\\\\"5524 Whisperwind\\\\\",\\\\n\\\\\"checkup_slot_id\\\\\": 23,\\\\n\\\\\"walk_in\\\\\": false,\\\\n\\\\\"appointment\\\\\": true\\\\n}\"}'}, {'role': 'function', 'tool_call_id': 'call_Ogr3SqHQ2B1GWZMytm1L71rC', 'name': 'schedule_checkup', 'content': 'Invalid address or not located in Brownsville, TX.'}, {'role': 'user', 'content': '5524 Whisperwind '}, {'role': 'assistant', 'content': \"I'm sorry for the inconvenience, but it seems there's an issue with the address provided. Could you please confirm your address? We need to ensure that you're located in Brownsville, TX.\"}, {'role': 'assistant', 'content': '{\"name\": \"schedule_checkup\", \"arguments\": \"{\\\\n\\\\\"full_name\\\\\": \\\\\"Matthew Gault\\\\\",\\\\n\\\\\"phone\\\\\": \\\\\"9562661805\\\\\",\\\\n\\\\\"address\\\\\": \\\\\"5524 Whisperwind Way Brownsville Texas\\\\\",\\\\n\\\\\"checkup_slot_id\\\\\": 23,\\\\n\\\\\"walk_in\\\\\": false,\\\\n\\\\\"appointment\\\\\": true\\\\n}\"}'}, {'role': 'function', 'tool_call_id': 'call_RLFpSoCWPUAn0aWLOYROZNtE', 'name': 'schedule_checkup', 'content': 'Invalid address or not located in Brownsville, TX.'}]\n"
     ]
    },
    {
     "name": "stdout",
     "output_type": "stream",
     "text": [
      "messages: [{'role': 'system', 'content': \"\\n    You are a helpful AI assistant named Bob created by Valley Day & Night Clinic in Brownsville, TX.\\n\\n    Today's date: May 08, 2024\\n    Current time: 05/08/2024 06:45 PM\\n    \\n    ## Task\\n    \\n    Your job is to provide an amazing customer service experience for potential customers of Day & Night Clinic and\\n    current customers.\\n    \\n    Additionally, you are renowned for converting leads into customers.\\n    \\n    As an AI assistant, you will help faciliate 'check-ups' for Valley Day & Night Clinic's services.\\n    \\n    ## Check-Up Services\\n    \\n    Standard - copay of $40 per person\\n    \\n    A $100 charge will be deducted upon not showing up to the walk-in/appointment at all, so let the customer know about this detail.\\n    \\n    ## Walk-ins\\n    \\n    Any person can choose to walk into the clinic during our work hours from 8 A.M. to 5 P.M. and pay the $40 copay.\\n    \\n    ## Prices\\n    \\n    Prices for a standard check-up are $40 as a copay per person admitted into the clinic, regardless of whether it's an \\n    appointment or a walk-in.\\n    \\n    ## Appointments\\n    \\n    If a customer expresses intent for an appointment what they mean is that they would like to schedule a check-up for the Check-Up Services.\\n        \\n    Before getting down any of their details, you should always check availability and provide it to the customer.\\n    \\n    They don't have a user interface or anything to indicate availability and are relying on you to tell them.\\n    \\n    When displaying availability do not display slot IDs as that maps to our internal database IDs and is SENSITIVE.\\n    \\n    ## Checkup Scheduling Process\\n    \\n    Incrementally ask the customer for the correct information\\n    \\n    1. Double check that the service they selected is appointment.\\n    2. Show them the available appointment slots and identify the one they are interested in.\\n    3. What their name and phone number is.\\n    4. Schedule the appointment.\\n    \\n    It is important that you break this up into smaller interactions to not overwhelm the user.\\n    \\n    Getting their name and phone number before scheduling the appointment is important in case the session gets disconnected.\\n    \"}, {'role': 'user', 'content': 'Hello'}, {'role': 'assistant', 'content': 'Hello! How can I assist you today?'}, {'role': 'assistant', 'content': '{\"name\": \"get_availability\", \"arguments\": \"{}\"}'}, {'role': 'function', 'tool_call_id': 'call_GrEK0JQqCXfgYr7nLdudFNkQ', 'name': 'get_availability', 'content': \"[{'checkup_slot_id': 16, 'checkup_date': '05/08/2024', 'checkup_time': '01:00pm'}, {'checkup_slot_id': 3676, 'checkup_date': '05/08/2024', 'checkup_time': '01:00pm'}, {'checkup_slot_id': 7326, 'checkup_date': '05/08/2024', 'checkup_time': '01:00pm'}, {'checkup_slot_id': 17, 'checkup_date': '05/08/2024', 'checkup_time': '02:00pm'}, {'checkup_slot_id': 3677, 'checkup_date': '05/08/2024', 'checkup_time': '02:00pm'}, {'checkup_slot_id': 7327, 'checkup_date': '05/08/2024', 'checkup_time': '02:00pm'}, {'checkup_slot_id': 18, 'checkup_date': '05/08/2024', 'checkup_time': '03:00pm'}, {'checkup_slot_id': 3678, 'checkup_date': '05/08/2024', 'checkup_time': '03:00pm'}, {'checkup_slot_id': 7328, 'checkup_date': '05/08/2024', 'checkup_time': '03:00pm'}, {'checkup_slot_id': 19, 'checkup_date': '05/08/2024', 'checkup_time': '04:00pm'}, {'checkup_slot_id': 3679, 'checkup_date': '05/08/2024', 'checkup_time': '04:00pm'}, {'checkup_slot_id': 7329, 'checkup_date': '05/08/2024', 'checkup_time': '04:00pm'}, {'checkup_slot_id': 20, 'checkup_date': '05/08/2024', 'checkup_time': '05:00pm'}, {'checkup_slot_id': 3680, 'checkup_date': '05/08/2024', 'checkup_time': '05:00pm'}, {'checkup_slot_id': 7330, 'checkup_date': '05/08/2024', 'checkup_time': '05:00pm'}, {'checkup_slot_id': 11, 'checkup_date': '05/08/2024', 'checkup_time': '08:00am'}, {'checkup_slot_id': 3671, 'checkup_date': '05/08/2024', 'checkup_time': '08:00am'}, {'checkup_slot_id': 7321, 'checkup_date': '05/08/2024', 'checkup_time': '08:00am'}, {'checkup_slot_id': 12, 'checkup_date': '05/08/2024', 'checkup_time': '09:00am'}, {'checkup_slot_id': 3672, 'checkup_date': '05/08/2024', 'checkup_time': '09:00am'}, {'checkup_slot_id': 7322, 'checkup_date': '05/08/2024', 'checkup_time': '09:00am'}, {'checkup_slot_id': 13, 'checkup_date': '05/08/2024', 'checkup_time': '10:00am'}, {'checkup_slot_id': 3673, 'checkup_date': '05/08/2024', 'checkup_time': '10:00am'}, {'checkup_slot_id': 7323, 'checkup_date': '05/08/2024', 'checkup_time': '10:00am'}, {'checkup_slot_id': 14, 'checkup_date': '05/08/2024', 'checkup_time': '11:00am'}, {'checkup_slot_id': 3674, 'checkup_date': '05/08/2024', 'checkup_time': '11:00am'}, {'checkup_slot_id': 7324, 'checkup_date': '05/08/2024', 'checkup_time': '11:00am'}, {'checkup_slot_id': 15, 'checkup_date': '05/08/2024', 'checkup_time': '12:00pm'}, {'checkup_slot_id': 3675, 'checkup_date': '05/08/2024', 'checkup_time': '12:00pm'}, {'checkup_slot_id': 7325, 'checkup_date': '05/08/2024', 'checkup_time': '12:00pm'}, {'checkup_slot_id': 26, 'checkup_date': '05/09/2024', 'checkup_time': '01:00pm'}, {'checkup_slot_id': 3686, 'checkup_date': '05/09/2024', 'checkup_time': '01:00pm'}, {'checkup_slot_id': 7336, 'checkup_date': '05/09/2024', 'checkup_time': '01:00pm'}, {'checkup_slot_id': 27, 'checkup_date': '05/09/2024', 'checkup_time': '02:00pm'}, {'checkup_slot_id': 3687, 'checkup_date': '05/09/2024', 'checkup_time': '02:00pm'}, {'checkup_slot_id': 7337, 'checkup_date': '05/09/2024', 'checkup_time': '02:00pm'}, {'checkup_slot_id': 28, 'checkup_date': '05/09/2024', 'checkup_time': '03:00pm'}, {'checkup_slot_id': 3688, 'checkup_date': '05/09/2024', 'checkup_time': '03:00pm'}, {'checkup_slot_id': 7338, 'checkup_date': '05/09/2024', 'checkup_time': '03:00pm'}, {'checkup_slot_id': 29, 'checkup_date': '05/09/2024', 'checkup_time': '04:00pm'}, {'checkup_slot_id': 3689, 'checkup_date': '05/09/2024', 'checkup_time': '04:00pm'}, {'checkup_slot_id': 7339, 'checkup_date': '05/09/2024', 'checkup_time': '04:00pm'}, {'checkup_slot_id': 30, 'checkup_date': '05/09/2024', 'checkup_time': '05:00pm'}, {'checkup_slot_id': 3690, 'checkup_date': '05/09/2024', 'checkup_time': '05:00pm'}, {'checkup_slot_id': 7340, 'checkup_date': '05/09/2024', 'checkup_time': '05:00pm'}, {'checkup_slot_id': 21, 'checkup_date': '05/09/2024', 'checkup_time': '08:00am'}, {'checkup_slot_id': 3681, 'checkup_date': '05/09/2024', 'checkup_time': '08:00am'}, {'checkup_slot_id': 7331, 'checkup_date': '05/09/2024', 'checkup_time': '08:00am'}, {'checkup_slot_id': 22, 'checkup_date': '05/09/2024', 'checkup_time': '09:00am'}, {'checkup_slot_id': 3682, 'checkup_date': '05/09/2024', 'checkup_time': '09:00am'}, {'checkup_slot_id': 7332, 'checkup_date': '05/09/2024', 'checkup_time': '09:00am'}, {'checkup_slot_id': 23, 'checkup_date': '05/09/2024', 'checkup_time': '10:00am'}, {'checkup_slot_id': 3683, 'checkup_date': '05/09/2024', 'checkup_time': '10:00am'}, {'checkup_slot_id': 7333, 'checkup_date': '05/09/2024', 'checkup_time': '10:00am'}, {'checkup_slot_id': 24, 'checkup_date': '05/09/2024', 'checkup_time': '11:00am'}, {'checkup_slot_id': 3684, 'checkup_date': '05/09/2024', 'checkup_time': '11:00am'}, {'checkup_slot_id': 7334, 'checkup_date': '05/09/2024', 'checkup_time': '11:00am'}, {'checkup_slot_id': 25, 'checkup_date': '05/09/2024', 'checkup_time': '12:00pm'}, {'checkup_slot_id': 3685, 'checkup_date': '05/09/2024', 'checkup_time': '12:00pm'}, {'checkup_slot_id': 7335, 'checkup_date': '05/09/2024', 'checkup_time': '12:00pm'}]\"}, {'role': 'user', 'content': 'I would like to schedule a check up'}, {'role': 'assistant', 'content': 'Sure, I can help with that. We have several available slots for check-ups. Here are some options:\\n\\nFor today, May 8, 2024, we have the following slots available:\\n- 1:00 PM\\n- 2:00 PM\\n- 3:00 PM\\n- 4:00 PM\\n- 5:00 PM\\n\\nFor tomorrow, May 9, 2024, we have the following slots available:\\n- 8:00 AM\\n- 9:00 AM\\n- 10:00 AM\\n- 11:00 AM\\n- 12:00 PM\\n- 1:00 PM\\n- 2:00 PM\\n- 3:00 PM\\n- 4:00 PM\\n- 5:00 PM\\n\\nPlease let me know which slot you would prefer for your check-up.'}, {'role': 'user', 'content': 'I would like to schedule the slot for tomorrow at 10 AM'}, {'role': 'assistant', 'content': 'Great! I can help you with that. Before I schedule your appointment, could you please provide me with your full name and phone number? This is important in case the session gets disconnected.'}, {'role': 'assistant', 'content': '{\"name\": \"schedule_checkup\", \"arguments\": \"{\\\\n\\\\\"full_name\\\\\": \\\\\"Matthew Gault\\\\\",\\\\n\\\\\"phone\\\\\": \\\\\"9562661805\\\\\",\\\\n\\\\\"address\\\\\": \\\\\"\\\\\",\\\\n\\\\\"checkup_slot_id\\\\\": 23,\\\\n\\\\\"walk_in\\\\\": false,\\\\n\\\\\"appointment\\\\\": true\\\\n}\"}'}, {'role': 'function', 'tool_call_id': 'call_fqdMlqJC7d1spwH1OdfzEjgK', 'name': 'schedule_checkup', 'content': 'Invalid address or not located in Brownsville, TX.'}, {'role': 'user', 'content': 'Matthew Gault and my phone number is 9562661805'}, {'role': 'assistant', 'content': \"I apologize for the inconvenience. Could you please provide me with your address? It's necessary to ensure that you're located in Brownsville, TX.\"}, {'role': 'assistant', 'content': '{\"name\": \"schedule_checkup\", \"arguments\": \"{\\\\n\\\\\"full_name\\\\\": \\\\\"Matthew Gault\\\\\",\\\\n\\\\\"phone\\\\\": \\\\\"9562661805\\\\\",\\\\n\\\\\"address\\\\\": \\\\\"5524 Whisperwind\\\\\",\\\\n\\\\\"checkup_slot_id\\\\\": 23,\\\\n\\\\\"walk_in\\\\\": false,\\\\n\\\\\"appointment\\\\\": true\\\\n}\"}'}, {'role': 'function', 'tool_call_id': 'call_Ogr3SqHQ2B1GWZMytm1L71rC', 'name': 'schedule_checkup', 'content': 'Invalid address or not located in Brownsville, TX.'}, {'role': 'user', 'content': '5524 Whisperwind '}, {'role': 'assistant', 'content': \"I'm sorry for the inconvenience, but it seems there's an issue with the address provided. Could you please confirm your address? We need to ensure that you're located in Brownsville, TX.\"}, {'role': 'assistant', 'content': '{\"name\": \"schedule_checkup\", \"arguments\": \"{\\\\n\\\\\"full_name\\\\\": \\\\\"Matthew Gault\\\\\",\\\\n\\\\\"phone\\\\\": \\\\\"9562661805\\\\\",\\\\n\\\\\"address\\\\\": \\\\\"5524 Whisperwind Way Brownsville Texas\\\\\",\\\\n\\\\\"checkup_slot_id\\\\\": 23,\\\\n\\\\\"walk_in\\\\\": false,\\\\n\\\\\"appointment\\\\\": true\\\\n}\"}'}, {'role': 'function', 'tool_call_id': 'call_RLFpSoCWPUAn0aWLOYROZNtE', 'name': 'schedule_checkup', 'content': 'Invalid address or not located in Brownsville, TX.'}, {'role': 'user', 'content': '5524 Whisperwind Way Brownsville Texas'}, {'role': 'assistant', 'content': \"I'm sorry for the inconvenience, but it seems there's an issue with the address provided. Could you please confirm your address? We need to ensure that you're located in Brownsville, TX.\"}, {'role': 'user', 'content': '5524 Whisperwind Way'}]\n"
     ]
    },
    {
     "name": "stderr",
     "output_type": "stream",
     "text": [
      "Status code 403 from https://nominatim.openstreetmap.org/search: ERROR - 403 Client Error: Forbidden for url: https://nominatim.openstreetmap.org/search?q=5524+Whisperwind+Way%2C+Brownsville%2C+TX&format=jsonv2&addressdetails=1&limit=1\n"
     ]
    },
    {
     "name": "stdout",
     "output_type": "stream",
     "text": [
      "<[ERROR - 403 Client Error: Forbidden for url: https://nominatim.openstreetmap.org/search?q=5524+Whisperwind+Way%2C+Brownsville%2C+TX&format=jsonv2&addressdetails=1&limit=1] Osm - Geocode [empty]>\n",
      "None\n",
      "messages: [{'role': 'system', 'content': \"\\n    You are a helpful AI assistant named Bob created by Valley Day & Night Clinic in Brownsville, TX.\\n\\n    Today's date: May 08, 2024\\n    Current time: 05/08/2024 06:45 PM\\n    \\n    ## Task\\n    \\n    Your job is to provide an amazing customer service experience for potential customers of Day & Night Clinic and\\n    current customers.\\n    \\n    Additionally, you are renowned for converting leads into customers.\\n    \\n    As an AI assistant, you will help faciliate 'check-ups' for Valley Day & Night Clinic's services.\\n    \\n    ## Check-Up Services\\n    \\n    Standard - copay of $40 per person\\n    \\n    A $100 charge will be deducted upon not showing up to the walk-in/appointment at all, so let the customer know about this detail.\\n    \\n    ## Walk-ins\\n    \\n    Any person can choose to walk into the clinic during our work hours from 8 A.M. to 5 P.M. and pay the $40 copay.\\n    \\n    ## Prices\\n    \\n    Prices for a standard check-up are $40 as a copay per person admitted into the clinic, regardless of whether it's an \\n    appointment or a walk-in.\\n    \\n    ## Appointments\\n    \\n    If a customer expresses intent for an appointment what they mean is that they would like to schedule a check-up for the Check-Up Services.\\n        \\n    Before getting down any of their details, you should always check availability and provide it to the customer.\\n    \\n    They don't have a user interface or anything to indicate availability and are relying on you to tell them.\\n    \\n    When displaying availability do not display slot IDs as that maps to our internal database IDs and is SENSITIVE.\\n    \\n    ## Checkup Scheduling Process\\n    \\n    Incrementally ask the customer for the correct information\\n    \\n    1. Double check that the service they selected is appointment.\\n    2. Show them the available appointment slots and identify the one they are interested in.\\n    3. What their name and phone number is.\\n    4. Schedule the appointment.\\n    \\n    It is important that you break this up into smaller interactions to not overwhelm the user.\\n    \\n    Getting their name and phone number before scheduling the appointment is important in case the session gets disconnected.\\n    \"}, {'role': 'user', 'content': 'Hello'}, {'role': 'assistant', 'content': 'Hello! How can I assist you today?'}, {'role': 'assistant', 'content': '{\"name\": \"get_availability\", \"arguments\": \"{}\"}'}, {'role': 'function', 'tool_call_id': 'call_GrEK0JQqCXfgYr7nLdudFNkQ', 'name': 'get_availability', 'content': \"[{'checkup_slot_id': 16, 'checkup_date': '05/08/2024', 'checkup_time': '01:00pm'}, {'checkup_slot_id': 3676, 'checkup_date': '05/08/2024', 'checkup_time': '01:00pm'}, {'checkup_slot_id': 7326, 'checkup_date': '05/08/2024', 'checkup_time': '01:00pm'}, {'checkup_slot_id': 17, 'checkup_date': '05/08/2024', 'checkup_time': '02:00pm'}, {'checkup_slot_id': 3677, 'checkup_date': '05/08/2024', 'checkup_time': '02:00pm'}, {'checkup_slot_id': 7327, 'checkup_date': '05/08/2024', 'checkup_time': '02:00pm'}, {'checkup_slot_id': 18, 'checkup_date': '05/08/2024', 'checkup_time': '03:00pm'}, {'checkup_slot_id': 3678, 'checkup_date': '05/08/2024', 'checkup_time': '03:00pm'}, {'checkup_slot_id': 7328, 'checkup_date': '05/08/2024', 'checkup_time': '03:00pm'}, {'checkup_slot_id': 19, 'checkup_date': '05/08/2024', 'checkup_time': '04:00pm'}, {'checkup_slot_id': 3679, 'checkup_date': '05/08/2024', 'checkup_time': '04:00pm'}, {'checkup_slot_id': 7329, 'checkup_date': '05/08/2024', 'checkup_time': '04:00pm'}, {'checkup_slot_id': 20, 'checkup_date': '05/08/2024', 'checkup_time': '05:00pm'}, {'checkup_slot_id': 3680, 'checkup_date': '05/08/2024', 'checkup_time': '05:00pm'}, {'checkup_slot_id': 7330, 'checkup_date': '05/08/2024', 'checkup_time': '05:00pm'}, {'checkup_slot_id': 11, 'checkup_date': '05/08/2024', 'checkup_time': '08:00am'}, {'checkup_slot_id': 3671, 'checkup_date': '05/08/2024', 'checkup_time': '08:00am'}, {'checkup_slot_id': 7321, 'checkup_date': '05/08/2024', 'checkup_time': '08:00am'}, {'checkup_slot_id': 12, 'checkup_date': '05/08/2024', 'checkup_time': '09:00am'}, {'checkup_slot_id': 3672, 'checkup_date': '05/08/2024', 'checkup_time': '09:00am'}, {'checkup_slot_id': 7322, 'checkup_date': '05/08/2024', 'checkup_time': '09:00am'}, {'checkup_slot_id': 13, 'checkup_date': '05/08/2024', 'checkup_time': '10:00am'}, {'checkup_slot_id': 3673, 'checkup_date': '05/08/2024', 'checkup_time': '10:00am'}, {'checkup_slot_id': 7323, 'checkup_date': '05/08/2024', 'checkup_time': '10:00am'}, {'checkup_slot_id': 14, 'checkup_date': '05/08/2024', 'checkup_time': '11:00am'}, {'checkup_slot_id': 3674, 'checkup_date': '05/08/2024', 'checkup_time': '11:00am'}, {'checkup_slot_id': 7324, 'checkup_date': '05/08/2024', 'checkup_time': '11:00am'}, {'checkup_slot_id': 15, 'checkup_date': '05/08/2024', 'checkup_time': '12:00pm'}, {'checkup_slot_id': 3675, 'checkup_date': '05/08/2024', 'checkup_time': '12:00pm'}, {'checkup_slot_id': 7325, 'checkup_date': '05/08/2024', 'checkup_time': '12:00pm'}, {'checkup_slot_id': 26, 'checkup_date': '05/09/2024', 'checkup_time': '01:00pm'}, {'checkup_slot_id': 3686, 'checkup_date': '05/09/2024', 'checkup_time': '01:00pm'}, {'checkup_slot_id': 7336, 'checkup_date': '05/09/2024', 'checkup_time': '01:00pm'}, {'checkup_slot_id': 27, 'checkup_date': '05/09/2024', 'checkup_time': '02:00pm'}, {'checkup_slot_id': 3687, 'checkup_date': '05/09/2024', 'checkup_time': '02:00pm'}, {'checkup_slot_id': 7337, 'checkup_date': '05/09/2024', 'checkup_time': '02:00pm'}, {'checkup_slot_id': 28, 'checkup_date': '05/09/2024', 'checkup_time': '03:00pm'}, {'checkup_slot_id': 3688, 'checkup_date': '05/09/2024', 'checkup_time': '03:00pm'}, {'checkup_slot_id': 7338, 'checkup_date': '05/09/2024', 'checkup_time': '03:00pm'}, {'checkup_slot_id': 29, 'checkup_date': '05/09/2024', 'checkup_time': '04:00pm'}, {'checkup_slot_id': 3689, 'checkup_date': '05/09/2024', 'checkup_time': '04:00pm'}, {'checkup_slot_id': 7339, 'checkup_date': '05/09/2024', 'checkup_time': '04:00pm'}, {'checkup_slot_id': 30, 'checkup_date': '05/09/2024', 'checkup_time': '05:00pm'}, {'checkup_slot_id': 3690, 'checkup_date': '05/09/2024', 'checkup_time': '05:00pm'}, {'checkup_slot_id': 7340, 'checkup_date': '05/09/2024', 'checkup_time': '05:00pm'}, {'checkup_slot_id': 21, 'checkup_date': '05/09/2024', 'checkup_time': '08:00am'}, {'checkup_slot_id': 3681, 'checkup_date': '05/09/2024', 'checkup_time': '08:00am'}, {'checkup_slot_id': 7331, 'checkup_date': '05/09/2024', 'checkup_time': '08:00am'}, {'checkup_slot_id': 22, 'checkup_date': '05/09/2024', 'checkup_time': '09:00am'}, {'checkup_slot_id': 3682, 'checkup_date': '05/09/2024', 'checkup_time': '09:00am'}, {'checkup_slot_id': 7332, 'checkup_date': '05/09/2024', 'checkup_time': '09:00am'}, {'checkup_slot_id': 23, 'checkup_date': '05/09/2024', 'checkup_time': '10:00am'}, {'checkup_slot_id': 3683, 'checkup_date': '05/09/2024', 'checkup_time': '10:00am'}, {'checkup_slot_id': 7333, 'checkup_date': '05/09/2024', 'checkup_time': '10:00am'}, {'checkup_slot_id': 24, 'checkup_date': '05/09/2024', 'checkup_time': '11:00am'}, {'checkup_slot_id': 3684, 'checkup_date': '05/09/2024', 'checkup_time': '11:00am'}, {'checkup_slot_id': 7334, 'checkup_date': '05/09/2024', 'checkup_time': '11:00am'}, {'checkup_slot_id': 25, 'checkup_date': '05/09/2024', 'checkup_time': '12:00pm'}, {'checkup_slot_id': 3685, 'checkup_date': '05/09/2024', 'checkup_time': '12:00pm'}, {'checkup_slot_id': 7335, 'checkup_date': '05/09/2024', 'checkup_time': '12:00pm'}]\"}, {'role': 'user', 'content': 'I would like to schedule a check up'}, {'role': 'assistant', 'content': 'Sure, I can help with that. We have several available slots for check-ups. Here are some options:\\n\\nFor today, May 8, 2024, we have the following slots available:\\n- 1:00 PM\\n- 2:00 PM\\n- 3:00 PM\\n- 4:00 PM\\n- 5:00 PM\\n\\nFor tomorrow, May 9, 2024, we have the following slots available:\\n- 8:00 AM\\n- 9:00 AM\\n- 10:00 AM\\n- 11:00 AM\\n- 12:00 PM\\n- 1:00 PM\\n- 2:00 PM\\n- 3:00 PM\\n- 4:00 PM\\n- 5:00 PM\\n\\nPlease let me know which slot you would prefer for your check-up.'}, {'role': 'user', 'content': 'I would like to schedule the slot for tomorrow at 10 AM'}, {'role': 'assistant', 'content': 'Great! I can help you with that. Before I schedule your appointment, could you please provide me with your full name and phone number? This is important in case the session gets disconnected.'}, {'role': 'assistant', 'content': '{\"name\": \"schedule_checkup\", \"arguments\": \"{\\\\n\\\\\"full_name\\\\\": \\\\\"Matthew Gault\\\\\",\\\\n\\\\\"phone\\\\\": \\\\\"9562661805\\\\\",\\\\n\\\\\"address\\\\\": \\\\\"\\\\\",\\\\n\\\\\"checkup_slot_id\\\\\": 23,\\\\n\\\\\"walk_in\\\\\": false,\\\\n\\\\\"appointment\\\\\": true\\\\n}\"}'}, {'role': 'function', 'tool_call_id': 'call_fqdMlqJC7d1spwH1OdfzEjgK', 'name': 'schedule_checkup', 'content': 'Invalid address or not located in Brownsville, TX.'}, {'role': 'user', 'content': 'Matthew Gault and my phone number is 9562661805'}, {'role': 'assistant', 'content': \"I apologize for the inconvenience. Could you please provide me with your address? It's necessary to ensure that you're located in Brownsville, TX.\"}, {'role': 'assistant', 'content': '{\"name\": \"schedule_checkup\", \"arguments\": \"{\\\\n\\\\\"full_name\\\\\": \\\\\"Matthew Gault\\\\\",\\\\n\\\\\"phone\\\\\": \\\\\"9562661805\\\\\",\\\\n\\\\\"address\\\\\": \\\\\"5524 Whisperwind\\\\\",\\\\n\\\\\"checkup_slot_id\\\\\": 23,\\\\n\\\\\"walk_in\\\\\": false,\\\\n\\\\\"appointment\\\\\": true\\\\n}\"}'}, {'role': 'function', 'tool_call_id': 'call_Ogr3SqHQ2B1GWZMytm1L71rC', 'name': 'schedule_checkup', 'content': 'Invalid address or not located in Brownsville, TX.'}, {'role': 'user', 'content': '5524 Whisperwind '}, {'role': 'assistant', 'content': \"I'm sorry for the inconvenience, but it seems there's an issue with the address provided. Could you please confirm your address? We need to ensure that you're located in Brownsville, TX.\"}, {'role': 'assistant', 'content': '{\"name\": \"schedule_checkup\", \"arguments\": \"{\\\\n\\\\\"full_name\\\\\": \\\\\"Matthew Gault\\\\\",\\\\n\\\\\"phone\\\\\": \\\\\"9562661805\\\\\",\\\\n\\\\\"address\\\\\": \\\\\"5524 Whisperwind Way Brownsville Texas\\\\\",\\\\n\\\\\"checkup_slot_id\\\\\": 23,\\\\n\\\\\"walk_in\\\\\": false,\\\\n\\\\\"appointment\\\\\": true\\\\n}\"}'}, {'role': 'function', 'tool_call_id': 'call_RLFpSoCWPUAn0aWLOYROZNtE', 'name': 'schedule_checkup', 'content': 'Invalid address or not located in Brownsville, TX.'}, {'role': 'user', 'content': '5524 Whisperwind Way Brownsville Texas'}, {'role': 'assistant', 'content': \"I'm sorry for the inconvenience, but it seems there's an issue with the address provided. Could you please confirm your address? We need to ensure that you're located in Brownsville, TX.\"}, {'role': 'assistant', 'content': '{\"name\": \"schedule_checkup\", \"arguments\": \"{\\\\n\\\\\"full_name\\\\\": \\\\\"Matthew Gault\\\\\",\\\\n\\\\\"phone\\\\\": \\\\\"9562661805\\\\\",\\\\n\\\\\"address\\\\\": \\\\\"5524 Whisperwind Way, Brownsville, TX\\\\\",\\\\n\\\\\"checkup_slot_id\\\\\": 23,\\\\n\\\\\"walk_in\\\\\": false,\\\\n\\\\\"appointment\\\\\": true\\\\n}\"}'}, {'role': 'function', 'tool_call_id': 'call_Ci9px9ebFcvj6Fj9Z3losgrT', 'name': 'schedule_checkup', 'content': 'Invalid address or not located in Brownsville, TX.'}]\n"
     ]
    },
    {
     "name": "stdout",
     "output_type": "stream",
     "text": [
      "messages: [{'role': 'system', 'content': \"\\n    You are a helpful AI assistant named Bob created by Valley Day & Night Clinic in Brownsville, TX.\\n\\n    Today's date: May 08, 2024\\n    Current time: 05/08/2024 06:46 PM\\n    \\n    ## Task\\n    \\n    Your job is to provide an amazing customer service experience for potential customers of Day & Night Clinic and\\n    current customers.\\n    \\n    Additionally, you are renowned for converting leads into customers.\\n    \\n    As an AI assistant, you will help faciliate 'check-ups' for Valley Day & Night Clinic's services.\\n    \\n    ## Check-Up Services\\n    \\n    Standard - copay of $40 per person\\n    \\n    A $100 charge will be deducted upon not showing up to the walk-in/appointment at all, so let the customer know about this detail.\\n    \\n    ## Walk-ins\\n    \\n    Any person can choose to walk into the clinic during our work hours from 8 A.M. to 5 P.M. and pay the $40 copay.\\n    \\n    ## Prices\\n    \\n    Prices for a standard check-up are $40 as a copay per person admitted into the clinic, regardless of whether it's an \\n    appointment or a walk-in.\\n    \\n    ## Appointments\\n    \\n    If a customer expresses intent for an appointment what they mean is that they would like to schedule a check-up for the Check-Up Services.\\n        \\n    Before getting down any of their details, you should always check availability and provide it to the customer.\\n    \\n    They don't have a user interface or anything to indicate availability and are relying on you to tell them.\\n    \\n    When displaying availability do not display slot IDs as that maps to our internal database IDs and is SENSITIVE.\\n    \\n    ## Checkup Scheduling Process\\n    \\n    Incrementally ask the customer for the correct information\\n    \\n    1. Double check that the service they selected is appointment.\\n    2. Show them the available appointment slots and identify the one they are interested in.\\n    3. What their name and phone number is.\\n    4. Schedule the appointment.\\n    \\n    It is important that you break this up into smaller interactions to not overwhelm the user.\\n    \\n    Getting their name and phone number before scheduling the appointment is important in case the session gets disconnected.\\n    \"}, {'role': 'user', 'content': 'Hello'}, {'role': 'assistant', 'content': 'Hello! How can I assist you today?'}, {'role': 'assistant', 'content': '{\"name\": \"get_availability\", \"arguments\": \"{}\"}'}, {'role': 'function', 'tool_call_id': 'call_GrEK0JQqCXfgYr7nLdudFNkQ', 'name': 'get_availability', 'content': \"[{'checkup_slot_id': 16, 'checkup_date': '05/08/2024', 'checkup_time': '01:00pm'}, {'checkup_slot_id': 3676, 'checkup_date': '05/08/2024', 'checkup_time': '01:00pm'}, {'checkup_slot_id': 7326, 'checkup_date': '05/08/2024', 'checkup_time': '01:00pm'}, {'checkup_slot_id': 17, 'checkup_date': '05/08/2024', 'checkup_time': '02:00pm'}, {'checkup_slot_id': 3677, 'checkup_date': '05/08/2024', 'checkup_time': '02:00pm'}, {'checkup_slot_id': 7327, 'checkup_date': '05/08/2024', 'checkup_time': '02:00pm'}, {'checkup_slot_id': 18, 'checkup_date': '05/08/2024', 'checkup_time': '03:00pm'}, {'checkup_slot_id': 3678, 'checkup_date': '05/08/2024', 'checkup_time': '03:00pm'}, {'checkup_slot_id': 7328, 'checkup_date': '05/08/2024', 'checkup_time': '03:00pm'}, {'checkup_slot_id': 19, 'checkup_date': '05/08/2024', 'checkup_time': '04:00pm'}, {'checkup_slot_id': 3679, 'checkup_date': '05/08/2024', 'checkup_time': '04:00pm'}, {'checkup_slot_id': 7329, 'checkup_date': '05/08/2024', 'checkup_time': '04:00pm'}, {'checkup_slot_id': 20, 'checkup_date': '05/08/2024', 'checkup_time': '05:00pm'}, {'checkup_slot_id': 3680, 'checkup_date': '05/08/2024', 'checkup_time': '05:00pm'}, {'checkup_slot_id': 7330, 'checkup_date': '05/08/2024', 'checkup_time': '05:00pm'}, {'checkup_slot_id': 11, 'checkup_date': '05/08/2024', 'checkup_time': '08:00am'}, {'checkup_slot_id': 3671, 'checkup_date': '05/08/2024', 'checkup_time': '08:00am'}, {'checkup_slot_id': 7321, 'checkup_date': '05/08/2024', 'checkup_time': '08:00am'}, {'checkup_slot_id': 12, 'checkup_date': '05/08/2024', 'checkup_time': '09:00am'}, {'checkup_slot_id': 3672, 'checkup_date': '05/08/2024', 'checkup_time': '09:00am'}, {'checkup_slot_id': 7322, 'checkup_date': '05/08/2024', 'checkup_time': '09:00am'}, {'checkup_slot_id': 13, 'checkup_date': '05/08/2024', 'checkup_time': '10:00am'}, {'checkup_slot_id': 3673, 'checkup_date': '05/08/2024', 'checkup_time': '10:00am'}, {'checkup_slot_id': 7323, 'checkup_date': '05/08/2024', 'checkup_time': '10:00am'}, {'checkup_slot_id': 14, 'checkup_date': '05/08/2024', 'checkup_time': '11:00am'}, {'checkup_slot_id': 3674, 'checkup_date': '05/08/2024', 'checkup_time': '11:00am'}, {'checkup_slot_id': 7324, 'checkup_date': '05/08/2024', 'checkup_time': '11:00am'}, {'checkup_slot_id': 15, 'checkup_date': '05/08/2024', 'checkup_time': '12:00pm'}, {'checkup_slot_id': 3675, 'checkup_date': '05/08/2024', 'checkup_time': '12:00pm'}, {'checkup_slot_id': 7325, 'checkup_date': '05/08/2024', 'checkup_time': '12:00pm'}, {'checkup_slot_id': 26, 'checkup_date': '05/09/2024', 'checkup_time': '01:00pm'}, {'checkup_slot_id': 3686, 'checkup_date': '05/09/2024', 'checkup_time': '01:00pm'}, {'checkup_slot_id': 7336, 'checkup_date': '05/09/2024', 'checkup_time': '01:00pm'}, {'checkup_slot_id': 27, 'checkup_date': '05/09/2024', 'checkup_time': '02:00pm'}, {'checkup_slot_id': 3687, 'checkup_date': '05/09/2024', 'checkup_time': '02:00pm'}, {'checkup_slot_id': 7337, 'checkup_date': '05/09/2024', 'checkup_time': '02:00pm'}, {'checkup_slot_id': 28, 'checkup_date': '05/09/2024', 'checkup_time': '03:00pm'}, {'checkup_slot_id': 3688, 'checkup_date': '05/09/2024', 'checkup_time': '03:00pm'}, {'checkup_slot_id': 7338, 'checkup_date': '05/09/2024', 'checkup_time': '03:00pm'}, {'checkup_slot_id': 29, 'checkup_date': '05/09/2024', 'checkup_time': '04:00pm'}, {'checkup_slot_id': 3689, 'checkup_date': '05/09/2024', 'checkup_time': '04:00pm'}, {'checkup_slot_id': 7339, 'checkup_date': '05/09/2024', 'checkup_time': '04:00pm'}, {'checkup_slot_id': 30, 'checkup_date': '05/09/2024', 'checkup_time': '05:00pm'}, {'checkup_slot_id': 3690, 'checkup_date': '05/09/2024', 'checkup_time': '05:00pm'}, {'checkup_slot_id': 7340, 'checkup_date': '05/09/2024', 'checkup_time': '05:00pm'}, {'checkup_slot_id': 21, 'checkup_date': '05/09/2024', 'checkup_time': '08:00am'}, {'checkup_slot_id': 3681, 'checkup_date': '05/09/2024', 'checkup_time': '08:00am'}, {'checkup_slot_id': 7331, 'checkup_date': '05/09/2024', 'checkup_time': '08:00am'}, {'checkup_slot_id': 22, 'checkup_date': '05/09/2024', 'checkup_time': '09:00am'}, {'checkup_slot_id': 3682, 'checkup_date': '05/09/2024', 'checkup_time': '09:00am'}, {'checkup_slot_id': 7332, 'checkup_date': '05/09/2024', 'checkup_time': '09:00am'}, {'checkup_slot_id': 23, 'checkup_date': '05/09/2024', 'checkup_time': '10:00am'}, {'checkup_slot_id': 3683, 'checkup_date': '05/09/2024', 'checkup_time': '10:00am'}, {'checkup_slot_id': 7333, 'checkup_date': '05/09/2024', 'checkup_time': '10:00am'}, {'checkup_slot_id': 24, 'checkup_date': '05/09/2024', 'checkup_time': '11:00am'}, {'checkup_slot_id': 3684, 'checkup_date': '05/09/2024', 'checkup_time': '11:00am'}, {'checkup_slot_id': 7334, 'checkup_date': '05/09/2024', 'checkup_time': '11:00am'}, {'checkup_slot_id': 25, 'checkup_date': '05/09/2024', 'checkup_time': '12:00pm'}, {'checkup_slot_id': 3685, 'checkup_date': '05/09/2024', 'checkup_time': '12:00pm'}, {'checkup_slot_id': 7335, 'checkup_date': '05/09/2024', 'checkup_time': '12:00pm'}]\"}, {'role': 'user', 'content': 'I would like to schedule a check up'}, {'role': 'assistant', 'content': 'Sure, I can help with that. We have several available slots for check-ups. Here are some options:\\n\\nFor today, May 8, 2024, we have the following slots available:\\n- 1:00 PM\\n- 2:00 PM\\n- 3:00 PM\\n- 4:00 PM\\n- 5:00 PM\\n\\nFor tomorrow, May 9, 2024, we have the following slots available:\\n- 8:00 AM\\n- 9:00 AM\\n- 10:00 AM\\n- 11:00 AM\\n- 12:00 PM\\n- 1:00 PM\\n- 2:00 PM\\n- 3:00 PM\\n- 4:00 PM\\n- 5:00 PM\\n\\nPlease let me know which slot you would prefer for your check-up.'}, {'role': 'user', 'content': 'I would like to schedule the slot for tomorrow at 10 AM'}, {'role': 'assistant', 'content': 'Great! I can help you with that. Before I schedule your appointment, could you please provide me with your full name and phone number? This is important in case the session gets disconnected.'}, {'role': 'assistant', 'content': '{\"name\": \"schedule_checkup\", \"arguments\": \"{\\\\n\\\\\"full_name\\\\\": \\\\\"Matthew Gault\\\\\",\\\\n\\\\\"phone\\\\\": \\\\\"9562661805\\\\\",\\\\n\\\\\"address\\\\\": \\\\\"\\\\\",\\\\n\\\\\"checkup_slot_id\\\\\": 23,\\\\n\\\\\"walk_in\\\\\": false,\\\\n\\\\\"appointment\\\\\": true\\\\n}\"}'}, {'role': 'function', 'tool_call_id': 'call_fqdMlqJC7d1spwH1OdfzEjgK', 'name': 'schedule_checkup', 'content': 'Invalid address or not located in Brownsville, TX.'}, {'role': 'user', 'content': 'Matthew Gault and my phone number is 9562661805'}, {'role': 'assistant', 'content': \"I apologize for the inconvenience. Could you please provide me with your address? It's necessary to ensure that you're located in Brownsville, TX.\"}, {'role': 'assistant', 'content': '{\"name\": \"schedule_checkup\", \"arguments\": \"{\\\\n\\\\\"full_name\\\\\": \\\\\"Matthew Gault\\\\\",\\\\n\\\\\"phone\\\\\": \\\\\"9562661805\\\\\",\\\\n\\\\\"address\\\\\": \\\\\"5524 Whisperwind\\\\\",\\\\n\\\\\"checkup_slot_id\\\\\": 23,\\\\n\\\\\"walk_in\\\\\": false,\\\\n\\\\\"appointment\\\\\": true\\\\n}\"}'}, {'role': 'function', 'tool_call_id': 'call_Ogr3SqHQ2B1GWZMytm1L71rC', 'name': 'schedule_checkup', 'content': 'Invalid address or not located in Brownsville, TX.'}, {'role': 'user', 'content': '5524 Whisperwind '}, {'role': 'assistant', 'content': \"I'm sorry for the inconvenience, but it seems there's an issue with the address provided. Could you please confirm your address? We need to ensure that you're located in Brownsville, TX.\"}, {'role': 'assistant', 'content': '{\"name\": \"schedule_checkup\", \"arguments\": \"{\\\\n\\\\\"full_name\\\\\": \\\\\"Matthew Gault\\\\\",\\\\n\\\\\"phone\\\\\": \\\\\"9562661805\\\\\",\\\\n\\\\\"address\\\\\": \\\\\"5524 Whisperwind Way Brownsville Texas\\\\\",\\\\n\\\\\"checkup_slot_id\\\\\": 23,\\\\n\\\\\"walk_in\\\\\": false,\\\\n\\\\\"appointment\\\\\": true\\\\n}\"}'}, {'role': 'function', 'tool_call_id': 'call_RLFpSoCWPUAn0aWLOYROZNtE', 'name': 'schedule_checkup', 'content': 'Invalid address or not located in Brownsville, TX.'}, {'role': 'user', 'content': '5524 Whisperwind Way Brownsville Texas'}, {'role': 'assistant', 'content': \"I'm sorry for the inconvenience, but it seems there's an issue with the address provided. Could you please confirm your address? We need to ensure that you're located in Brownsville, TX.\"}, {'role': 'assistant', 'content': '{\"name\": \"schedule_checkup\", \"arguments\": \"{\\\\n\\\\\"full_name\\\\\": \\\\\"Matthew Gault\\\\\",\\\\n\\\\\"phone\\\\\": \\\\\"9562661805\\\\\",\\\\n\\\\\"address\\\\\": \\\\\"5524 Whisperwind Way, Brownsville, TX\\\\\",\\\\n\\\\\"checkup_slot_id\\\\\": 23,\\\\n\\\\\"walk_in\\\\\": false,\\\\n\\\\\"appointment\\\\\": true\\\\n}\"}'}, {'role': 'function', 'tool_call_id': 'call_Ci9px9ebFcvj6Fj9Z3losgrT', 'name': 'schedule_checkup', 'content': 'Invalid address or not located in Brownsville, TX.'}, {'role': 'user', 'content': '5524 Whisperwind Way'}, {'role': 'assistant', 'content': \"I apologize for the inconvenience, but it seems there's an issue with the address provided. Could you please confirm your address? We need to ensure that you're located in Brownsville, TX.\"}, {'role': 'user', 'content': '961 Frontier Trail'}]\n"
     ]
    }
   ],
   "source": [
    "import gradio as gr\n",
    "import pandas as pd\n",
    "\n",
    "def get_availability_df():\n",
    "    # Get availability data as a list of dictionaries\n",
    "    availability_data = get_availability()\n",
    "    \n",
    "    # Convert the list of dictionaries to a DataFrame\n",
    "    df = pd.DataFrame(availability_data)\n",
    "    \n",
    "    return df \n",
    "\n",
    "def get_booked_appointments_df():\n",
    "    # Get booked appointments data as a list of dictionaries\n",
    "    appointments_data = get_booked_appointments()\n",
    "    \n",
    "    # Convert the list of dictionaries to a DataFrame\n",
    "    df = pd.DataFrame(appointments_data)\n",
    "    \n",
    "    return df\n",
    "\n",
    "# Define a function to return a chatbot app using Gradio\n",
    "def get_chatbot_app(share=False):\n",
    "    # Create the Gradio interface using the Blocks layout\n",
    "    with gr.Blocks() as app:\n",
    "        with gr.Tab(\"Conversation\"):\n",
    "            with gr.Row():\n",
    "                with gr.Column():\n",
    "                    # Create a chatbot interface for the conversation\n",
    "                    chatbot = gr.Chatbot(label=\"Conversation\")\n",
    "                    # Create a textbox for the user's message\n",
    "                    message = gr.Textbox(label=\"Message\")\n",
    "                    # Create a state object to store the conversation history\n",
    "                    history_state = gr.State()\n",
    "                    # Create a state object to store the available tools\n",
    "                    tools = gr.State()\n",
    "                    # Create a button to send the user's message\n",
    "                    btn = gr.Button(value=\"Send\")\n",
    "                btn.click(chat, inputs=[message, chatbot, history_state], outputs=[message, chatbot, history_state])\n",
    "        with gr.Tab(\"(Admin) Appointments\"):\n",
    "            refresh = gr.Button(value=\"Refresh\")\n",
    "            appointments = gr.Dataframe(value=get_booked_appointments_df())\n",
    "            refresh.click(get_booked_appointments_df, outputs=appointments)\n",
    "        with gr.Tab(\"(Admin) Update Appointment\"):\n",
    "            appointment_slots = gr.Dataframe(value=get_availability_df())\n",
    "        # Return the app\n",
    "        return app\n",
    "    \n",
    "# Call the launch_chatbot function to start the chatbot interface using Gradio\n",
    "# Set the share parameter to False, meaning the interface will not be publicly accessible\n",
    "get_chatbot_app().launch()"
   ]
  },
  {
   "cell_type": "code",
   "execution_count": null,
   "id": "930f0972",
   "metadata": {},
   "outputs": [],
   "source": []
  },
  {
   "cell_type": "code",
   "execution_count": null,
   "id": "d4a37e02",
   "metadata": {},
   "outputs": [],
   "source": []
  }
 ],
 "metadata": {
  "kernelspec": {
   "display_name": "Python 3 (ipykernel)",
   "language": "python",
   "name": "python3"
  },
  "language_info": {
   "codemirror_mode": {
    "name": "ipython",
    "version": 3
   },
   "file_extension": ".py",
   "mimetype": "text/x-python",
   "name": "python",
   "nbconvert_exporter": "python",
   "pygments_lexer": "ipython3",
   "version": "3.11.7"
  }
 },
 "nbformat": 4,
 "nbformat_minor": 5
}
